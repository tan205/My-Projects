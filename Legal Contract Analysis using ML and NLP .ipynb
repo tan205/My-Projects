{
 "cells": [
  {
   "cell_type": "code",
   "execution_count": 2,
   "id": "1caf2aa0",
   "metadata": {},
   "outputs": [],
   "source": [
    "# Import the various libraries\n",
    "import re, json, os, itertools\n",
    "import pandas as pd\n",
    "from tqdm import tqdm"
   ]
  },
  {
   "cell_type": "code",
   "execution_count": 3,
   "id": "a88896e5",
   "metadata": {},
   "outputs": [],
   "source": [
    "# Path to each individual txt files converted from PDF\n",
    "TC_PATH = \"D:\\\\DYPIU\\\\INTERNSHIP PROJECTS\\\\GIBOTS\\\\CUAD-v1\\\\FULL_CONTRACT_TXT\"\n",
    "\n",
    "# Path to folder containing all the CUAD data and files\n",
    "MASTER_PATH = \"D:\\\\DYPIU\\\\INTERNSHIP PROJECTS\\\\GIBOTS\\\\CUAD-v1\"\n",
    "\n",
    "# Name of CSV file containing all the extracted clauses from the Atticus team\n",
    "MASTER_CLAUSES = 'master_clauses.csv'\n",
    "\n",
    "# Name of JSON file to export the agreement text and labels for data extraction\n",
    "JSON_EXPORT = 'CUAD_v1.json'\n",
    "\n",
    "# Name of JSON file to export the agreement taxt and labels for further inspection\n",
    "JSON_EXPORT_INSPECT = 'jsonl_cuadv1_inspect.json'"
   ]
  },
  {
   "cell_type": "code",
   "execution_count": 4,
   "id": "1f462766",
   "metadata": {},
   "outputs": [
    {
     "data": {
      "text/html": [
       "<div>\n",
       "<style scoped>\n",
       "    .dataframe tbody tr th:only-of-type {\n",
       "        vertical-align: middle;\n",
       "    }\n",
       "\n",
       "    .dataframe tbody tr th {\n",
       "        vertical-align: top;\n",
       "    }\n",
       "\n",
       "    .dataframe thead th {\n",
       "        text-align: right;\n",
       "    }\n",
       "</style>\n",
       "<table border=\"1\" class=\"dataframe\">\n",
       "  <thead>\n",
       "    <tr style=\"text-align: right;\">\n",
       "      <th></th>\n",
       "      <th>Text Files</th>\n",
       "    </tr>\n",
       "  </thead>\n",
       "  <tbody>\n",
       "    <tr>\n",
       "      <th>0</th>\n",
       "      <td>2ThemartComInc_19990826_10-12G_EX-10.10_670028...</td>\n",
       "    </tr>\n",
       "    <tr>\n",
       "      <th>1</th>\n",
       "      <td>ABILITYINC_06_15_2020-EX-4.25-SERVICES AGREEME...</td>\n",
       "    </tr>\n",
       "    <tr>\n",
       "      <th>2</th>\n",
       "      <td>ACCELERATEDTECHNOLOGIESHOLDINGCORP_04_24_2003-...</td>\n",
       "    </tr>\n",
       "    <tr>\n",
       "      <th>3</th>\n",
       "      <td>ACCURAYINC_09_01_2010-EX-10.31-DISTRIBUTOR AGR...</td>\n",
       "    </tr>\n",
       "    <tr>\n",
       "      <th>4</th>\n",
       "      <td>ADAMSGOLFINC_03_21_2005-EX-10.17-ENDORSEMENT A...</td>\n",
       "    </tr>\n",
       "  </tbody>\n",
       "</table>\n",
       "</div>"
      ],
      "text/plain": [
       "                                          Text Files\n",
       "0  2ThemartComInc_19990826_10-12G_EX-10.10_670028...\n",
       "1  ABILITYINC_06_15_2020-EX-4.25-SERVICES AGREEME...\n",
       "2  ACCELERATEDTECHNOLOGIESHOLDINGCORP_04_24_2003-...\n",
       "3  ACCURAYINC_09_01_2010-EX-10.31-DISTRIBUTOR AGR...\n",
       "4  ADAMSGOLFINC_03_21_2005-EX-10.17-ENDORSEMENT A..."
      ]
     },
     "execution_count": 4,
     "metadata": {},
     "output_type": "execute_result"
    }
   ],
   "source": [
    "# Walk through all .txt filenames and create a dataframe with the names of the files, sorted alpha/num\n",
    "text_files = []\n",
    "for (dirpath, dirnames, filenames) in os.walk(TC_PATH):\n",
    "    text_files.extend(filenames)\n",
    "\n",
    "tf_df = pd.DataFrame(data = text_files, columns = ['Text Files'])\n",
    "tf_df.sort_values('Text Files', axis=0, inplace=True, ignore_index=True) \n",
    "tf_df.head()"
   ]
  },
  {
   "cell_type": "code",
   "execution_count": 5,
   "id": "0cd7d3db",
   "metadata": {},
   "outputs": [],
   "source": [
    "# Read master clauses CSV into a dataframe, sort by filename to match text file dataframe created above\n",
    "mc_df = pd.read_csv('master_clauses.csv')\n",
    "\n",
    "# Cut out the relevant info\n",
    "mc_df_cut = mc_df[['Filename',\n",
    "                   'Document Name',\n",
    "                   'Document Name-Answer',\n",
    "                   'Parties',\n",
    "                   'Parties-Answer',\n",
    "                   'Agreement Date',\n",
    "                   'Agreement Date-Answer']].copy()\n",
    "\n",
    "# Sort the dataframe by filename\n",
    "mc_df_cut.sort_values('Filename', axis=0, inplace=True, ignore_index=True) \n",
    "\n",
    "# Bring in the list of the .txt filenames\n",
    "mc_df_cut.insert(loc=1, column='Text Files', value=tf_df)\n",
    "\n",
    "# Create a list of the names of the files, with index num\n",
    "file_list = [(index, str(row['Text Files'])) for index, row in mc_df_cut.iterrows() if not pd.isna(row['Text Files'])]"
   ]
  },
  {
   "cell_type": "code",
   "execution_count": 6,
   "id": "d38f82b5",
   "metadata": {},
   "outputs": [
    {
     "name": "stdout",
     "output_type": "stream",
     "text": [
      "<class 'pandas.core.frame.DataFrame'>\n",
      "RangeIndex: 510 entries, 0 to 509\n",
      "Data columns (total 8 columns):\n",
      " #   Column                 Non-Null Count  Dtype \n",
      "---  ------                 --------------  ----- \n",
      " 0   Filename               510 non-null    object\n",
      " 1   Text Files             478 non-null    object\n",
      " 2   Document Name          510 non-null    object\n",
      " 3   Document Name-Answer   510 non-null    object\n",
      " 4   Parties                510 non-null    object\n",
      " 5   Parties-Answer         509 non-null    object\n",
      " 6   Agreement Date         510 non-null    object\n",
      " 7   Agreement Date-Answer  465 non-null    object\n",
      "dtypes: object(8)\n",
      "memory usage: 32.0+ KB\n"
     ]
    }
   ],
   "source": [
    "#Initial dataframe info\n",
    "mc_df_cut.info()"
   ]
  },
  {
   "cell_type": "code",
   "execution_count": 7,
   "id": "06641ddf",
   "metadata": {},
   "outputs": [],
   "source": [
    "# Create a function to clean up and pre-process the text.\n",
    "# This process should be used for any document text inc. train, validation and test sets.\n",
    "def pre_process_doc_common(text):\n",
    "    # Simple replacement for \"\\n\"\n",
    "    text = text.replace(\"\\n\", \" \")     \n",
    "    \n",
    "    # Simple replacement for \"\\xa0\"\n",
    "    text = text.replace(\"\\xa0\", \" \")  \n",
    "    \n",
    "    # Simple replacement for \"\\x0c\"\n",
    "    text = text.replace(\"\\x0c\", \" \")\n",
    "    \n",
    "    # Get rid of multiple dots\n",
    "    regex = \"\\ \\.\\ \"\n",
    "    subst = \".\"\n",
    "    text = re.sub(regex, subst, text, 0)\n",
    "    \n",
    "    # Get rid of underscores\n",
    "    regex = \"_\"\n",
    "    subst = \" \"\n",
    "    text = re.sub(regex, subst, text, 0)\n",
    "    \n",
    "    # Get rid of multiple dashes\n",
    "    regex = \"--+\"\n",
    "    subst = \" \"\n",
    "    text = re.sub(regex, subst, text, 0)\n",
    "    \n",
    "    # Get rid of multiple stars\n",
    "    regex = \"\\*+\"\n",
    "    subst = \"*\"\n",
    "    text = re.sub(regex, subst, text, 0)\n",
    "    \n",
    "    # Get rid of multiple whitespace\n",
    "    regex = \"\\ +\"\n",
    "    subst = \" \"\n",
    "    text = re.sub(regex, subst, text, 0)\n",
    "    \n",
    "    #Strip leading and trailing whitespace\n",
    "    text = text.strip()\n",
    "  \n",
    "    return text\n",
    "\n",
    "# Function to take in the file list, read each file, clean the text and return all agreements in a list\n",
    "def text_data(file_list, print_text=False, clean_text=True, max_len=3000):\n",
    "    text_list = []\n",
    "    for index, filename in tqdm(file_list):\n",
    "        agreement = open(TC_PATH+'\\\\'+filename, \"r\")\n",
    "        text = agreement.read()\n",
    "        if print_text:\n",
    "            print(\"Text before cleaning: \\n\", text)\n",
    "        \n",
    "        # Run text through cleansing function\n",
    "        if clean_text:\n",
    "            text = pre_process_doc_common(text)\n",
    "        text = text[:max_len]\n",
    "        len_text = len(text)\n",
    "        \n",
    "        if print_text:\n",
    "            print(\"Text after cleaning: \\n\", text)\n",
    "        \n",
    "        text_list.append([index,\n",
    "                  filename,\n",
    "                  text,\n",
    "                  len_text])\n",
    "        \n",
    "    return text_list"
   ]
  },
  {
   "cell_type": "code",
   "execution_count": 8,
   "id": "95193f92",
   "metadata": {},
   "outputs": [
    {
     "name": "stderr",
     "output_type": "stream",
     "text": [
      "100%|██████████| 478/478 [00:09<00:00, 49.86it/s]\n"
     ]
    },
    {
     "data": {
      "text/html": [
       "<div>\n",
       "<style scoped>\n",
       "    .dataframe tbody tr th:only-of-type {\n",
       "        vertical-align: middle;\n",
       "    }\n",
       "\n",
       "    .dataframe tbody tr th {\n",
       "        vertical-align: top;\n",
       "    }\n",
       "\n",
       "    .dataframe thead th {\n",
       "        text-align: right;\n",
       "    }\n",
       "</style>\n",
       "<table border=\"1\" class=\"dataframe\">\n",
       "  <thead>\n",
       "    <tr style=\"text-align: right;\">\n",
       "      <th></th>\n",
       "      <th>Filename</th>\n",
       "      <th>Text Files</th>\n",
       "      <th>Document Name</th>\n",
       "      <th>Document Name-Answer</th>\n",
       "      <th>Parties</th>\n",
       "      <th>Parties-Answer</th>\n",
       "      <th>Agreement Date</th>\n",
       "      <th>Agreement Date-Answer</th>\n",
       "      <th>Text</th>\n",
       "      <th>Length_Of_Text</th>\n",
       "      <th>Doc_N_Length</th>\n",
       "    </tr>\n",
       "  </thead>\n",
       "  <tbody>\n",
       "    <tr>\n",
       "      <th>0</th>\n",
       "      <td>2ThemartComInc_19990826_10-12G_EX-10.10_670028...</td>\n",
       "      <td>2ThemartComInc_19990826_10-12G_EX-10.10_670028...</td>\n",
       "      <td>[CO-BRANDING AND ADVERTISING AGREEMENT]</td>\n",
       "      <td>CO-BRANDING AND ADVERTISING AGREEMENT</td>\n",
       "      <td>[2THEMART.COM, INC., 2TheMart, i-Escrow, I-ESC...</td>\n",
       "      <td>I-ESCROW, INC.  (\"i-Escrow\" ); 2THEMART.COM, I...</td>\n",
       "      <td>[June 21, 1999]</td>\n",
       "      <td>6/21/99</td>\n",
       "      <td>CO-BRANDING AND ADVERTISING AGREEMENT THIS CO-...</td>\n",
       "      <td>1000.0</td>\n",
       "      <td>1</td>\n",
       "    </tr>\n",
       "    <tr>\n",
       "      <th>1</th>\n",
       "      <td>ABILITYINC_06_15_2020-EX-4.25-SERVICES AGREEME...</td>\n",
       "      <td>ABILITYINC_06_15_2020-EX-4.25-SERVICES AGREEME...</td>\n",
       "      <td>[Services Agreement]</td>\n",
       "      <td>Services Agreement</td>\n",
       "      <td>[\"Provider\", TELCOSTAR PTE, LTD., Each of the ...</td>\n",
       "      <td>[ * * * ] (\"Provider\"); TELCOSTAR PTE, LTD.; A...</td>\n",
       "      <td>[October 1, 2019]</td>\n",
       "      <td>10/1/19</td>\n",
       "      <td>EXHIBIT 4.25 INFORMATION IN THIS EXHIBIT IDENT...</td>\n",
       "      <td>1000.0</td>\n",
       "      <td>1</td>\n",
       "    </tr>\n",
       "    <tr>\n",
       "      <th>2</th>\n",
       "      <td>ACCELERATEDTECHNOLOGIESHOLDINGCORP_04_24_2003-...</td>\n",
       "      <td>ACCELERATEDTECHNOLOGIESHOLDINGCORP_04_24_2003-...</td>\n",
       "      <td>[JOINT VENTURE AGREEMENT]</td>\n",
       "      <td>JOINT VENTURE AGREEMENT</td>\n",
       "      <td>[Pivotal Self Service Tech, Inc., (the \"Partie...</td>\n",
       "      <td>Collectible Concepts Group, Inc. (\"CCGI\"); Piv...</td>\n",
       "      <td>[]</td>\n",
       "      <td>NaN</td>\n",
       "      <td>EXHIBIT 10.13 JOINT VENTURE AGREEMENT Collecti...</td>\n",
       "      <td>1000.0</td>\n",
       "      <td>1</td>\n",
       "    </tr>\n",
       "  </tbody>\n",
       "</table>\n",
       "</div>"
      ],
      "text/plain": [
       "                                            Filename  \\\n",
       "0  2ThemartComInc_19990826_10-12G_EX-10.10_670028...   \n",
       "1  ABILITYINC_06_15_2020-EX-4.25-SERVICES AGREEME...   \n",
       "2  ACCELERATEDTECHNOLOGIESHOLDINGCORP_04_24_2003-...   \n",
       "\n",
       "                                          Text Files  \\\n",
       "0  2ThemartComInc_19990826_10-12G_EX-10.10_670028...   \n",
       "1  ABILITYINC_06_15_2020-EX-4.25-SERVICES AGREEME...   \n",
       "2  ACCELERATEDTECHNOLOGIESHOLDINGCORP_04_24_2003-...   \n",
       "\n",
       "                             Document Name  \\\n",
       "0  [CO-BRANDING AND ADVERTISING AGREEMENT]   \n",
       "1                     [Services Agreement]   \n",
       "2                [JOINT VENTURE AGREEMENT]   \n",
       "\n",
       "                    Document Name-Answer  \\\n",
       "0  CO-BRANDING AND ADVERTISING AGREEMENT   \n",
       "1                     Services Agreement   \n",
       "2                JOINT VENTURE AGREEMENT   \n",
       "\n",
       "                                             Parties  \\\n",
       "0  [2THEMART.COM, INC., 2TheMart, i-Escrow, I-ESC...   \n",
       "1  [\"Provider\", TELCOSTAR PTE, LTD., Each of the ...   \n",
       "2  [Pivotal Self Service Tech, Inc., (the \"Partie...   \n",
       "\n",
       "                                      Parties-Answer     Agreement Date  \\\n",
       "0  I-ESCROW, INC.  (\"i-Escrow\" ); 2THEMART.COM, I...    [June 21, 1999]   \n",
       "1  [ * * * ] (\"Provider\"); TELCOSTAR PTE, LTD.; A...  [October 1, 2019]   \n",
       "2  Collectible Concepts Group, Inc. (\"CCGI\"); Piv...                 []   \n",
       "\n",
       "  Agreement Date-Answer                                               Text  \\\n",
       "0               6/21/99  CO-BRANDING AND ADVERTISING AGREEMENT THIS CO-...   \n",
       "1               10/1/19  EXHIBIT 4.25 INFORMATION IN THIS EXHIBIT IDENT...   \n",
       "2                   NaN  EXHIBIT 10.13 JOINT VENTURE AGREEMENT Collecti...   \n",
       "\n",
       "   Length_Of_Text  Doc_N_Length  \n",
       "0          1000.0             1  \n",
       "1          1000.0             1  \n",
       "2          1000.0             1  "
      ]
     },
     "execution_count": 8,
     "metadata": {},
     "output_type": "execute_result"
    }
   ],
   "source": [
    "# Clean text and create dataframe with the text of ech document\n",
    "# print('before file list :', file_list[477])\n",
    "data = text_data(file_list, print_text=False, clean_text=True, max_len=1000)\n",
    "columns = ['ID', 'Documents', 'Text', 'Length_Of_Text']\n",
    "text_df = pd.DataFrame(data=data, columns=columns)\n",
    "\n",
    "# Add the two columns to a copy of the main dataframe\n",
    "mc_df_wk = mc_df_cut.copy()\n",
    "mc_df_wk = mc_df_wk.join(text_df[['Text', 'Length_Of_Text']])\n",
    "\n",
    "#Ensure agreement date, doc_name and parties are list objects\n",
    "mc_df_wk[\"Agreement Date\"] = mc_df_wk[\"Agreement Date\"].apply(eval)\n",
    "mc_df_wk[\"Document Name\"] = mc_df_wk[\"Document Name\"].apply(eval)\n",
    "mc_df_wk[\"Parties\"] = mc_df_wk[\"Parties\"].apply(eval)\n",
    "\n",
    "# Some document name references have more than one entry - remove them for further inspection later\n",
    "mc_df_wk['Doc_N_Length'] = mc_df_wk['Document Name'].str.len()\n",
    "mc_df_mul = mc_df_wk[mc_df_wk.Doc_N_Length > 1]\n",
    "mc_df_wk.drop(mc_df_mul.index, inplace=True)\n",
    "\n",
    "# Have a look at the data\n",
    "mc_df_wk.head(3)"
   ]
  },
  {
   "cell_type": "code",
   "execution_count": 9,
   "id": "4db0f1db",
   "metadata": {},
   "outputs": [
    {
     "name": "stdout",
     "output_type": "stream",
     "text": [
      "<class 'pandas.core.frame.DataFrame'>\n",
      "Int64Index: 499 entries, 0 to 509\n",
      "Data columns (total 11 columns):\n",
      " #   Column                 Non-Null Count  Dtype  \n",
      "---  ------                 --------------  -----  \n",
      " 0   Filename               499 non-null    object \n",
      " 1   Text Files             467 non-null    object \n",
      " 2   Document Name          499 non-null    object \n",
      " 3   Document Name-Answer   499 non-null    object \n",
      " 4   Parties                499 non-null    object \n",
      " 5   Parties-Answer         498 non-null    object \n",
      " 6   Agreement Date         499 non-null    object \n",
      " 7   Agreement Date-Answer  458 non-null    object \n",
      " 8   Text                   467 non-null    object \n",
      " 9   Length_Of_Text         467 non-null    float64\n",
      " 10  Doc_N_Length           499 non-null    int64  \n",
      "dtypes: float64(1), int64(1), object(9)\n",
      "memory usage: 46.8+ KB\n"
     ]
    }
   ],
   "source": [
    "# Check for null values\n",
    "mc_df_wk.info()"
   ]
  },
  {
   "cell_type": "code",
   "execution_count": 10,
   "id": "43700f72",
   "metadata": {},
   "outputs": [
    {
     "name": "stdout",
     "output_type": "stream",
     "text": [
      "<class 'pandas.core.frame.DataFrame'>\n",
      "Int64Index: 458 entries, 0 to 509\n",
      "Data columns (total 11 columns):\n",
      " #   Column                 Non-Null Count  Dtype  \n",
      "---  ------                 --------------  -----  \n",
      " 0   Filename               458 non-null    object \n",
      " 1   Text Files             430 non-null    object \n",
      " 2   Document Name          458 non-null    object \n",
      " 3   Document Name-Answer   458 non-null    object \n",
      " 4   Parties                458 non-null    object \n",
      " 5   Parties-Answer         458 non-null    object \n",
      " 6   Agreement Date         458 non-null    object \n",
      " 7   Agreement Date-Answer  458 non-null    object \n",
      " 8   Text                   430 non-null    object \n",
      " 9   Length_Of_Text         430 non-null    float64\n",
      " 10  Doc_N_Length           458 non-null    int64  \n",
      "dtypes: float64(1), int64(1), object(9)\n",
      "memory usage: 42.9+ KB\n"
     ]
    }
   ],
   "source": [
    "# Agreement date is an important label. Here we will drop any agreement without a date.\n",
    "# These will typically be template or specimen agreements which havent been executed\n",
    "# Prior to dropping, we create a dataframe to manually check and annotate agreement date in a different exercise\n",
    "mc_df_nul = mc_df_wk[mc_df_wk[\"Agreement Date-Answer\"].isnull()]\n",
    "mc_df_wk = mc_df_wk.dropna(subset=['Agreement Date-Answer'])\n",
    "mc_df_wk.info()"
   ]
  },
  {
   "cell_type": "code",
   "execution_count": 11,
   "id": "7f90837e",
   "metadata": {},
   "outputs": [],
   "source": [
    "# The CUADv1 labels includes the Party definition eg Apple Inc. \"Apple\", here we keep just the legal entity:\n",
    "def remove_party_overlaps(labels):\n",
    "    labels.sort()\n",
    "    k = []\n",
    "    for i in range(len(labels)-1):\n",
    "        l1 = labels[i]\n",
    "        l2 = labels[i+1]\n",
    "        if l1[0] == l2[0]:\n",
    "            len1 = l1[1] - l1[0]\n",
    "            len2 = l2[1] - l2[0]\n",
    "            if len1 > len2:\n",
    "                k.append(l1)\n",
    "                continue\n",
    "            else:\n",
    "                k.append(l2)\n",
    "                continue\n",
    "        else:\n",
    "            k.append(labels[i])\n",
    "    new_labels = list(k for k,_ in itertools.groupby(k))\n",
    "    \n",
    "    return new_labels"
   ]
  },
  {
   "cell_type": "code",
   "execution_count": 12,
   "id": "4d6e0a24",
   "metadata": {},
   "outputs": [
    {
     "name": "stderr",
     "output_type": "stream",
     "text": [
      "458it [00:00, 934.45it/s]\n",
      "11it [00:00, ?it/s]\n",
      "41it [00:00, ?it/s]\n"
     ]
    }
   ],
   "source": [
    "# Go through each label and find the label in the text, ensure label is pre-processed same as text.\n",
    "# If labels don't match, append to a seperate file to check.\n",
    "\n",
    "clean_text = True\n",
    "djson = list()\n",
    "djson_inspect = list()\n",
    "for index, row in tqdm(mc_df_wk.iterrows()):\n",
    "    labels = list()\n",
    "    ids = index\n",
    "    text = row['Text']\n",
    "    \n",
    "    #DOC_NAME\n",
    "    doc_names = row['Document Name']\n",
    "    for name in doc_names:\n",
    "        if clean_text:\n",
    "            name = pre_process_doc_common(name)\n",
    "        type(text)\n",
    "        if type(text) != str:\n",
    "            text = str(text)\n",
    "            \n",
    "        matches = re.finditer(re.escape(name.lower()), text.lower())\n",
    "        for m in matches:\n",
    "            s = m.start()\n",
    "            e = m.end()\n",
    "            labels.append([s, e, 'DOC_NAME'])\n",
    "    \n",
    "    #AGMT_DATE\n",
    "    agmt_date = row['Agreement Date']\n",
    "    for date in agmt_date:\n",
    "        if clean_text:\n",
    "            date = pre_process_doc_common(date)\n",
    "        matches = re.finditer(re.escape(date.lower()), text.lower())\n",
    "        for m in matches:\n",
    "            s = m.start()\n",
    "            e = m.end()\n",
    "            labels.append([s, e, 'AGMT_DATE'])\n",
    "\n",
    "    #PARTIES\n",
    "    parties = row['Parties']\n",
    "    for party in parties:\n",
    "        if clean_text:\n",
    "            party = pre_process_doc_common(party)\n",
    "        matches = re.finditer(re.escape(party.lower()), text.lower())\n",
    "        for m in matches:\n",
    "            s = m.start()\n",
    "            e = m.end()\n",
    "            labels.append([s, e, 'PARTY'])\n",
    "    \n",
    "    labels = remove_party_overlaps(labels)\n",
    "    #print(labels)\n",
    "    \n",
    "    # Check for incongruous finds, add to inspect file\n",
    "    flat_list = [item for sublist in labels for item in sublist]\n",
    "    if 'DOC_NAME' in flat_list and 'AGMT_DATE' in flat_list and 'PARTY' in flat_list:\n",
    "        djson.append({'id': ids, 'text': text, \"labels\": labels})\n",
    "    else:\n",
    "        djson_inspect.append({'id': ids, 'text': text, \"labels\": labels})\n",
    "\n",
    "# Add to the check JSON file the other documents excluded due to duplicate names and no agreement dates\n",
    "for index, row in tqdm(mc_df_mul.iterrows()):\n",
    "    labels = list()\n",
    "    ids = index\n",
    "    text = row['Text']\n",
    "    djson_inspect.append({'id': ids, 'text': text, \"labels\": labels})\n",
    "\n",
    "for index, row in tqdm(mc_df_nul.iterrows()):\n",
    "    labels = list()\n",
    "    ids = index\n",
    "    text = row['Text']\n",
    "    djson_inspect.append({'id': ids, 'text': text, \"labels\": labels})"
   ]
  },
  {
   "cell_type": "code",
   "execution_count": 13,
   "id": "70636641",
   "metadata": {},
   "outputs": [
    {
     "name": "stdout",
     "output_type": "stream",
     "text": [
      "We are left with 28 training samples out of 510 to annotate.\n",
      "Additional agreements to check:  482\n"
     ]
    }
   ],
   "source": [
    "# The process above requires the three label types to be present in each agreement extract. This may not\n",
    "# be the case due to the shortening of the agreememt for example. Let's check how many we are left with\n",
    "# and how many we need to manually check...\n",
    "print(f\"We are left with {len(djson)} training samples out of 510 to annotate.\")\n",
    "print(\"Additional agreements to check: \",len(djson_inspect))"
   ]
  },
  {
   "cell_type": "code",
   "execution_count": 14,
   "id": "02ce7a59",
   "metadata": {},
   "outputs": [
    {
     "name": "stdout",
     "output_type": "stream",
     "text": [
      "0\n"
     ]
    }
   ],
   "source": [
    "# Check for erroneous labels\n",
    "count = 0\n",
    "for n in range(len(djson)):\n",
    "    labs = djson[n]['labels']\n",
    "    flat_list = [item for sublist in labs for item in sublist]\n",
    "    if -1 in flat_list:\n",
    "        count += 1\n",
    "print(count)"
   ]
  },
  {
   "cell_type": "code",
   "execution_count": 15,
   "id": "c1682ce8",
   "metadata": {},
   "outputs": [
    {
     "data": {
      "text/plain": [
       "517591"
      ]
     },
     "execution_count": 15,
     "metadata": {},
     "output_type": "execute_result"
    }
   ],
   "source": [
    "# Export the full datasets for import to Doccano\n",
    "filepath = JSON_EXPORT\n",
    "open(filepath, 'w').write(\"\\n\".join([json.dumps(e) for e in djson]))\n",
    "\n",
    "filepath = JSON_EXPORT_INSPECT\n",
    "open(filepath, 'w').write(\"\\n\".join([json.dumps(e) for e in djson_inspect]))"
   ]
  },
  {
   "cell_type": "code",
   "execution_count": 16,
   "id": "7188134b",
   "metadata": {},
   "outputs": [],
   "source": [
    "from transformers import AutoModelForQuestionAnswering, AutoTokenizer\n",
    "import torch"
   ]
  },
  {
   "cell_type": "code",
   "execution_count": 17,
   "id": "d96ba00b",
   "metadata": {},
   "outputs": [],
   "source": [
    "model = AutoModelForQuestionAnswering.from_pretrained('D:\\\\DYPIU\\\\INTERNSHIP PROJECTS\\\\GIBOTS\\\\Roberta base model')\n",
    "tokenizer = AutoTokenizer.from_pretrained('D:\\\\DYPIU\\\\INTERNSHIP PROJECTS\\\\GIBOTS\\\\Roberta base model', use_fast=False)"
   ]
  },
  {
   "cell_type": "code",
   "execution_count": 18,
   "id": "ff9902b9",
   "metadata": {},
   "outputs": [],
   "source": [
    "import json\n",
    "\n",
    "with open('D:\\\\DYPIU\\\\INTERNSHIP PROJECTS\\\\GIBOTS\\\\CUAD_v1.json') as json_file:\n",
    "    data = json.load(json_file)\n",
    "\n",
    "question = data['data'][0]['paragraphs'][0]['qas'][3]['question']\n",
    "paragraph = ' '.join(data['data'][3]['paragraphs'][0]['context'].split()[:100])"
   ]
  },
  {
   "cell_type": "code",
   "execution_count": 19,
   "id": "c1051c24",
   "metadata": {},
   "outputs": [],
   "source": [
    "encoding = tokenizer.encode_plus(text=question, text_pair=paragraph)\n",
    "inputs = encoding['input_ids']\n",
    "tokens = tokenizer.convert_ids_to_tokens(inputs)\n",
    "outputs = model(input_ids=torch.tensor([inputs]))\n",
    "\n",
    "start_scores = outputs.start_logits\n",
    "end_scores = outputs.end_logits"
   ]
  },
  {
   "cell_type": "code",
   "execution_count": 20,
   "id": "63af804a",
   "metadata": {},
   "outputs": [
    {
     "name": "stdout",
     "output_type": "stream",
     "text": [
      "Highlight the parts (if any) of this contract related to \"Effective Date\" that should be reviewed by a lawyer. Details: The date when the contract is effective \n"
     ]
    }
   ],
   "source": [
    "print(question)"
   ]
  },
  {
   "cell_type": "code",
   "execution_count": 21,
   "id": "639b9b1e",
   "metadata": {},
   "outputs": [
    {
     "name": "stdout",
     "output_type": "stream",
     "text": [
      "1 Exhibit 10.3 I-on. (LOGO) www.i-on.com 561.394.9484 o 561.394-9773 fax 1733 avenida del sol, boca raton, florida, 33432 WEB SITE HOSTING AGREEMENT This WEB SITE HOSTING AGREEMENT (\"this Agreement\") is entered into this 6th day of April, 1999 by and between Centrack International, a Florida corporation (\"the Customer\"), and i-on interactive, a Florida corporation (\"i-on\"). DEFINITIONS As used in this Agreement, the term \"Web site\" shall mean a computer system intended to be accessed through the World Wide Web segment of the Internet, including software and content intended to be viewed and/or operated upon by persons accessing the computer system\n"
     ]
    }
   ],
   "source": [
    "print(paragraph)"
   ]
  },
  {
   "cell_type": "code",
   "execution_count": 22,
   "id": "545c8b9f",
   "metadata": {},
   "outputs": [
    {
     "data": {
      "text/plain": [
       "'6th day of April, 1999'"
      ]
     },
     "execution_count": 22,
     "metadata": {},
     "output_type": "execute_result"
    }
   ],
   "source": [
    "start_index = torch.argmax(start_scores)\n",
    "end_index = torch.argmax(end_scores)\n",
    "answer = tokenizer.convert_tokens_to_string(tokens[start_index:end_index+1])\n",
    "answer.strip()"
   ]
  },
  {
   "cell_type": "code",
   "execution_count": 23,
   "id": "c8d8a116",
   "metadata": {},
   "outputs": [
    {
     "data": {
      "image/png": "[encoded data removed]",
      "text/plain": [
       "<Figure size 1600x800 with 1 Axes>"
      ]
     },
     "metadata": {},
     "output_type": "display_data"
    }
   ],
   "source": [
    "#first chart depicts the probabilities for each token in the contract to be the start token of the answer, \n",
    "#the second does the same but for the end tokens:\n",
    "\n",
    "import matplotlib.pyplot as plt\n",
    "import seaborn as sns\n",
    "\n",
    "# Use plot styling from seaborn.\n",
    "sns.set(style='darkgrid')\n",
    "\n",
    "# Increase the plot size and font size.\n",
    "#sns.set(font_scale=1.5)\n",
    "plt.rcParams[\"figure.figsize\"] = (16,8)\n",
    "\n",
    "# Pull the scores out of PyTorch Tensors and convert them to 1D numpy arrays.\n",
    "s_scores = start_scores.detach().numpy().flatten()\n",
    "e_scores = end_scores.detach().numpy().flatten()\n",
    "\n",
    "# We'll use the tokens as the x-axis labels. In order to do that, they all need\n",
    "# to be unique, so we'll add the token index to the end of each one.\n",
    "token_labels = []\n",
    "for (i, token) in enumerate(tokens):\n",
    "    token_labels.append('{:} - {:>2}'.format(tokenizer.convert_tokens_to_string(token), i))\n",
    "\n",
    "# Create a barplot showing the start word score for all of the tokens.\n",
    "ax = sns.barplot(x=token_labels[80:120], y=s_scores[80:120], ci=None)\n",
    "\n",
    "# Turn the xlabels vertical.\n",
    "ax.set_xticklabels(ax.get_xticklabels(), rotation=90, ha=\"center\")\n",
    "\n",
    "# Turn on the vertical grid to help align words to scores.\n",
    "ax.grid(True)\n",
    "\n",
    "plt.title('Start Word Scores')\n",
    "\n",
    "plt.show()"
   ]
  },
  {
   "cell_type": "code",
   "execution_count": 24,
   "id": "9a2915e9",
   "metadata": {},
   "outputs": [
    {
     "data": {
      "image/png": "[encoded data removed]",
      "text/plain": [
       "<Figure size 1600x800 with 1 Axes>"
      ]
     },
     "metadata": {},
     "output_type": "display_data"
    }
   ],
   "source": [
    "# Create a barplot showing the end word score for all of the tokens.\n",
    "ax = sns.barplot(x=token_labels[80:120], y=e_scores[80:120], ci=None)\n",
    "\n",
    "# Turn the xlabels vertical.\n",
    "ax.set_xticklabels(ax.get_xticklabels(), rotation=90, ha=\"center\")\n",
    "\n",
    "# Turn on the vertical grid to help align words to scores.\n",
    "ax.grid(True)\n",
    "\n",
    "plt.title('End Word Scores')\n",
    "\n",
    "plt.show()"
   ]
  },
  {
   "cell_type": "code",
   "execution_count": 25,
   "id": "7ea49e7d",
   "metadata": {},
   "outputs": [
    {
     "name": "stderr",
     "output_type": "stream",
     "text": [
      "Token indices sequence length is longer than the specified maximum sequence length for this model (23250 > 512). Running this sequence through the model will result in indexing errors\n"
     ]
    },
    {
     "name": "stdout",
     "output_type": "stream",
     "text": [
      "Contracts with token length < 512: 2.4%\n"
     ]
    }
   ],
   "source": [
    "import json\n",
    "from transformers import AutoTokenizer\n",
    "\n",
    "with open('D:\\\\DYPIU\\\\INTERNSHIP PROJECTS\\\\GIBOTS\\\\CUAD_v1.json') as json_file:\n",
    "    data = json.load(json_file)\n",
    "\n",
    "tokenizer = AutoTokenizer.from_pretrained('D:\\\\DYPIU\\\\INTERNSHIP PROJECTS\\\\GIBOTS\\\\Roberta base model', use_fast=False)\n",
    "    \n",
    "l = []\n",
    "for i, x in enumerate(data['data']):\n",
    "    l.append(len(tokenizer.encode(data['data'][i]['paragraphs'][0]['context'])))\n",
    "\n",
    "print(f\"Contracts with token length < 512: {sum(1 for x in l if x < 512) / len(l) * 100:.1f}%\")\n"
   ]
  },
  {
   "cell_type": "code",
   "execution_count": 1,
   "id": "fcc0e4ad",
   "metadata": {},
   "outputs": [],
   "source": [
    "import torch\n",
    "import time\n",
    "from torch.utils.data import DataLoader, RandomSampler, SequentialSampler\n",
    "\n",
    "from transformers import (\n",
    "    AutoConfig,\n",
    "    AutoModelForQuestionAnswering,\n",
    "    AutoTokenizer,\n",
    "    squad_convert_examples_to_features\n",
    ")\n",
    "\n",
    "from transformers.data.processors.squad import SquadResult, SquadV2Processor, SquadExample\n",
    "from transformers.data.metrics.squad_metrics import compute_predictions_logits\n",
    "#from transformers import pipeline\n",
    "\n",
    "def run_prediction(question_texts, context_text, model_path):\n",
    "    ### Setting hyperparameters\n",
    "    max_seq_length = 512\n",
    "    doc_stride = 256\n",
    "    n_best_size = 1\n",
    "    max_query_length = 64\n",
    "    max_answer_length = 512\n",
    "    do_lower_case = False\n",
    "    null_score_diff_threshold = 0.0\n",
    "\n",
    "    # model_name_or_path = \"../cuad-models/roberta-base/\"\n",
    "\n",
    "    def to_list(tensor):\n",
    "        return tensor.detach().cpu().tolist()\n",
    "\n",
    "    config_class, model_class, tokenizer_class = (\n",
    "        AutoConfig, AutoModelForQuestionAnswering, AutoTokenizer)\n",
    "    config = config_class.from_pretrained(model_path)\n",
    "    tokenizer = tokenizer_class.from_pretrained(\n",
    "        model_path, do_lower_case=True, use_fast=False)\n",
    "    model = model_class.from_pretrained(model_path, config=config)\n",
    "\n",
    "    device = torch.device(\"cuda\" if torch.cuda.is_available() else \"cpu\")\n",
    "    model.to(device)\n",
    "\n",
    "    processor = SquadV2Processor()\n",
    "    examples = []\n",
    "\n",
    "    for i, question_text in enumerate(question_texts):\n",
    "        example = SquadExample(\n",
    "            qas_id=str(i),\n",
    "            question_text=question_text,\n",
    "            context_text=context_text,\n",
    "            answer_text=None,\n",
    "            start_position_character=None,\n",
    "            title=\"Predict\",\n",
    "            answers=None,\n",
    "        )\n",
    "\n",
    "        examples.append(example)\n",
    "\n",
    "    features, dataset = squad_convert_examples_to_features(\n",
    "        examples=examples,\n",
    "        tokenizer=tokenizer,\n",
    "        max_seq_length=max_seq_length,\n",
    "        doc_stride=doc_stride,\n",
    "        max_query_length=max_query_length,\n",
    "        is_training=False,\n",
    "        return_dataset=\"pt\",\n",
    "        threads=1,\n",
    "    )\n",
    "\n",
    "    eval_sampler = SequentialSampler(dataset)\n",
    "    eval_dataloader = DataLoader(dataset, sampler=eval_sampler, batch_size=10)\n",
    "\n",
    "    all_results = []\n",
    "\n",
    "    for batch in eval_dataloader:\n",
    "        model.eval()\n",
    "        batch = tuple(t.to(device) for t in batch)\n",
    "\n",
    "        with torch.no_grad():\n",
    "            inputs = {\n",
    "                \"input_ids\": batch[0],\n",
    "                \"attention_mask\": batch[1],\n",
    "                \"token_type_ids\": batch[2],\n",
    "            }\n",
    "\n",
    "            example_indices = batch[3]\n",
    "\n",
    "            outputs = model(**inputs)\n",
    "\n",
    "            for i, example_index in enumerate(example_indices):\n",
    "                eval_feature = features[example_index.item()]\n",
    "                unique_id = int(eval_feature.unique_id)\n",
    "\n",
    "                output = [to_list(output[i]) for output in outputs.to_tuple()]\n",
    "\n",
    "                start_logits, end_logits = output\n",
    "                result = SquadResult(unique_id, start_logits, end_logits)\n",
    "                all_results.append(result)\n",
    "\n",
    "    final_predictions = compute_predictions_logits(\n",
    "        all_examples=examples,\n",
    "        all_features=features,\n",
    "        all_results=all_results,\n",
    "        n_best_size=n_best_size,\n",
    "        max_answer_length=max_answer_length,\n",
    "        do_lower_case=do_lower_case,\n",
    "        output_prediction_file=None,\n",
    "        output_nbest_file=None,\n",
    "        output_null_log_odds_file=None,\n",
    "        verbose_logging=False,\n",
    "        version_2_with_negative=True,\n",
    "        null_score_diff_threshold=null_score_diff_threshold,\n",
    "        tokenizer=tokenizer\n",
    "    )\n",
    "\n",
    "    return final_predictions"
   ]
  },
  {
   "cell_type": "code",
   "execution_count": 2,
   "id": "c77ddde0",
   "metadata": {},
   "outputs": [],
   "source": [
    "import json"
   ]
  },
  {
   "cell_type": "code",
   "execution_count": 3,
   "id": "a6e311be",
   "metadata": {},
   "outputs": [],
   "source": [
    "with open('D:\\\\DYPIU\\\\INTERNSHIP PROJECTS\\\\GIBOTS\\\\CUAD_v1.json') as json_file:\n",
    "    data = json.load(json_file)"
   ]
  },
  {
   "cell_type": "code",
   "execution_count": 4,
   "id": "a47a8f21",
   "metadata": {},
   "outputs": [],
   "source": [
    "questions = []\n",
    "for i, q in enumerate(data['data'][0]['paragraphs'][0]['qas']):\n",
    "    question = data['data'][0]['paragraphs'][0]['qas'][i]['question']\n",
    "    questions.append(question)\n",
    "#contract = data['data'][0]['paragraphs'][0]['context']"
   ]
  },
  {
   "cell_type": "code",
   "execution_count": 5,
   "id": "7182e302",
   "metadata": {},
   "outputs": [],
   "source": [
    "with open('MSA.txt', 'r', encoding='utf-8') as f1: \n",
    "    contract = f1.read() #some of the common encodings are utf-8, utf-16 and latin-1\n",
    "contract = ' '.join(contract.split())"
   ]
  },
  {
   "cell_type": "code",
   "execution_count": 6,
   "id": "fa8d3961",
   "metadata": {},
   "outputs": [],
   "source": [
    "with open('MSA.txt', 'w') as f:\n",
    "    f.write(' '.join(contract.split()))"
   ]
  },
  {
   "cell_type": "code",
   "execution_count": 7,
   "id": "2aac5195",
   "metadata": {},
   "outputs": [
    {
     "name": "stderr",
     "output_type": "stream",
     "text": [
      "convert squad examples to features: 100%|██████████| 41/41 [01:18<00:00,  1.91s/it]\n",
      "add example index and unique id: 100%|██████████| 41/41 [00:00<00:00, 5126.29it/s]\n"
     ]
    }
   ],
   "source": [
    "predictions = run_prediction(questions, contract, 'D:\\\\DYPIU\\\\INTERNSHIP PROJECTS\\\\GIBOTS\\\\Roberta base model')"
   ]
  },
  {
   "cell_type": "code",
   "execution_count": 8,
   "id": "b990cdad",
   "metadata": {},
   "outputs": [],
   "source": [
    "with open('MSA_Output.txt', 'w') as f:\n",
    "    for i, p in enumerate(predictions):\n",
    "        f.write(f\"Question {i+1}: {questions[int(p)]}\\nAnswer: {predictions[p]}\\n\\n\")"
   ]
  },
  {
   "cell_type": "markdown",
   "id": "8bafdbaa",
   "metadata": {},
   "source": [
    "### JSON file as output"
   ]
  },
  {
   "cell_type": "code",
   "execution_count": 9,
   "id": "975f201b",
   "metadata": {},
   "outputs": [],
   "source": [
    "import json\n",
    "# Create a dictionary for predictions\n",
    "output_data = {}\n",
    "for i, p in enumerate(predictions):\n",
    "    output_data[f\"Question {i+1}\"] = {\n",
    "        'Question': questions[int(p)],\n",
    "        'Answer': predictions[p]\n",
    "    }\n",
    "\n",
    "# Save predictions to a JSON file\n",
    "output_file_path = 'MSA.json'\n",
    "with open(output_file_path, 'w') as json_file:\n",
    "    json.dump(output_data, json_file)"
   ]
  },
  {
   "cell_type": "code",
   "execution_count": 81,
   "id": "221c80f0",
   "metadata": {},
   "outputs": [],
   "source": [
    "import json\n",
    "\n",
    "# Assuming you have the cleaned text stored in the 'contract' variable\n",
    "\n",
    "# Create a Python dictionary with the cleaned text\n",
    "output_data = {'contract': contract}\n",
    "\n",
    "# Specify the file path for the JSON file\n",
    "output_file_path = 'output.json'\n",
    "\n",
    "# Save the data to a JSON file\n",
    "with open(output_file_path, 'w') as json_file:\n",
    "    json.dump(output_data, json_file)"
   ]
  },
  {
   "cell_type": "markdown",
   "id": "e5f3de85",
   "metadata": {},
   "source": [
    "### Extracting Name, Date and Parties involved"
   ]
  },
  {
   "cell_type": "code",
   "execution_count": 14,
   "id": "2271f76f",
   "metadata": {},
   "outputs": [
    {
     "name": "stderr",
     "output_type": "stream",
     "text": [
      "convert squad examples to features: 100%|██████████| 3/3 [00:01<00:00,  2.41it/s]\n",
      "add example index and unique id: 100%|██████████| 3/3 [00:00<00:00, 3009.55it/s]\n"
     ]
    }
   ],
   "source": [
    "import json\n",
    "\n",
    "# Load the JSON data containing questions and context\n",
    "with open('D:\\\\DYPIU\\\\INTERNSHIP PROJECTS\\\\GIBOTS\\\\CUAD_v1.json') as json_file:\n",
    "    data = json.load(json_file)\n",
    "\n",
    "# Extract the questions and the desired file's context\n",
    "questions = [\n",
    "    \"Document Name\",\n",
    "    \"Parties\",\n",
    "    \"Agreement Date\"\n",
    "]\n",
    "\n",
    "contract_path = 'Sample2.txt'\n",
    "with open(contract_path, 'r') as file:\n",
    "    contract_text = file.read()\n",
    "\n",
    "# Make predictions on the specific file\n",
    "predictions = run_prediction(questions, contract_text, 'D:\\\\DYPIU\\\\INTERNSHIP PROJECTS\\\\GIBOTS\\\\Roberta base model')\n",
    "\n",
    "# Write the predictions with the corresponding clauses to a file\n",
    "with open('predictions2.txt', 'w') as f:\n",
    "    for i, p in enumerate(predictions):\n",
    "        clause_index = int(p)"
   ]
  },
  {
   "cell_type": "code",
   "execution_count": 15,
   "id": "2551cf96",
   "metadata": {},
   "outputs": [
    {
     "data": {
      "text/plain": [
       "OrderedDict([('0', ''),\n",
       "             ('1', 'WPD Pharmaceuticals,'),\n",
       "             ('2', 'March 20, 2020')])"
      ]
     },
     "execution_count": 15,
     "metadata": {},
     "output_type": "execute_result"
    }
   ],
   "source": [
    "predictions"
   ]
  },
  {
   "cell_type": "code",
   "execution_count": 17,
   "id": "bc100e51",
   "metadata": {},
   "outputs": [
    {
     "name": "stderr",
     "output_type": "stream",
     "text": [
      "convert squad examples to features: 100%|██████████| 3/3 [00:02<00:00,  1.40it/s]\n",
      "add example index and unique id: 100%|██████████| 3/3 [00:00<00:00, 3001.65it/s]\n"
     ]
    }
   ],
   "source": [
    "import json\n",
    "\n",
    "# Load the JSON data containing questions and context\n",
    "with open('D:\\\\DYPIU\\\\INTERNSHIP PROJECTS\\\\GIBOTS\\\\CUAD_v1.json') as json_file:\n",
    "    data = json.load(json_file)\n",
    "\n",
    "# Extract the questions\n",
    "questions = [\n",
    "    \"Document Name\",\n",
    "    \"Parties\",\n",
    "    \"Agreement Date\"\n",
    "]\n",
    "\n",
    "# Update the contract_path variable with the correct file path\n",
    "contract_path = 'Test Contract(GIBots).txt'\n",
    "\n",
    "# Read the contract file and store the text\n",
    "with open(contract_path, 'r') as file:\n",
    "    contract_text = file.read()\n",
    "\n",
    "# Make predictions on the specific file\n",
    "predictions = run_prediction(questions, contract_text, 'D:\\\\DYPIU\\\\INTERNSHIP PROJECTS\\\\GIBOTS\\\\Roberta base model')\n",
    "\n",
    "# Write the predicted clauses to a file\n",
    "with open('predictions.txt', 'w') as f:\n",
    "    for i, p in enumerate(predictions):\n",
    "        clause_index = int(p)\n",
    "        clause_text = contract_text[clause_index:]\n",
    "        f.write(f\"Question {i+1} Clause: {clause_text}\\n\")"
   ]
  },
  {
   "cell_type": "code",
   "execution_count": 18,
   "id": "3aa8a742",
   "metadata": {},
   "outputs": [
    {
     "data": {
      "text/plain": [
       "OrderedDict([('0', 'SUBCONTRACTOR SERVICES AGREEMENT'),\n",
       "             ('1', 'Vendor Pvt. Ltd.'),\n",
       "             ('2', '')])"
      ]
     },
     "execution_count": 18,
     "metadata": {},
     "output_type": "execute_result"
    }
   ],
   "source": [
    "predictions"
   ]
  },
  {
   "cell_type": "code",
   "execution_count": 9,
   "id": "4733505a",
   "metadata": {},
   "outputs": [
    {
     "name": "stderr",
     "output_type": "stream",
     "text": [
      "convert squad examples to features: 100%|██████████| 3/3 [00:07<00:00,  2.36s/it]\n",
      "add example index and unique id: 100%|██████████| 3/3 [00:00<?, ?it/s]\n"
     ]
    }
   ],
   "source": [
    "import json\n",
    "\n",
    "# Load the JSON data containing questions and context\n",
    "with open('D:\\\\DYPIU\\\\INTERNSHIP PROJECTS\\\\GIBOTS\\\\CUAD_v1.json') as json_file:\n",
    "    data = json.load(json_file)\n",
    "\n",
    "# Extract the questions\n",
    "questions = [\n",
    "    \"Highlight the parts (if any) of this contract related to 'Document Name' that should be reviewed by a lawyer.\",\n",
    "    \"Highlight the parts (if any) of this contract related to 'Parties' that should be reviewed by a lawyer.\",\n",
    "    \"Highlight the parts (if any) of this contract related to 'Agreement Date' that should be reviewed by a lawyer.\"\n",
    "]\n",
    "\n",
    "# Update the contract_path variable with the correct file path\n",
    "contract_path = 'prediction.txt'\n",
    "\n",
    "# Read the contract file and store the text\n",
    "with open(contract_path, 'r') as file:\n",
    "    contract_text = file.read()\n",
    "\n",
    "# Make predictions on the specific file\n",
    "predictions = run_prediction(questions, contract_text, 'D:\\\\DYPIU\\\\INTERNSHIP PROJECTS\\\\GIBOTS\\\\Roberta base model')\n",
    "\n",
    "# Write the predicted clauses to a file\n",
    "with open('predictions3.txt', 'w') as f:\n",
    "    for i, p in enumerate(predictions):\n",
    "        clause_index = int(p)\n",
    "        clause_text = contract_text[clause_index:]\n",
    "        f.write(f\"Question {i+1} Clause: {clause_text}\\n\")"
   ]
  },
  {
   "cell_type": "code",
   "execution_count": 10,
   "id": "a4c38851",
   "metadata": {},
   "outputs": [
    {
     "data": {
      "text/plain": [
       "OrderedDict([('0', 'CO-BRANDING AND ADVERTISING AGREEMENT'),\n",
       "             ('1', 'I-ESCROW, INC.,'),\n",
       "             ('2', 'June 21, 1999')])"
      ]
     },
     "execution_count": 10,
     "metadata": {},
     "output_type": "execute_result"
    }
   ],
   "source": [
    "predictions"
   ]
  },
  {
   "cell_type": "markdown",
   "id": "a9474ec4",
   "metadata": {},
   "source": [
    "### PDF file as input"
   ]
  },
  {
   "cell_type": "code",
   "execution_count": null,
   "id": "43722e86",
   "metadata": {},
   "outputs": [],
   "source": [
    "import json\n",
    "from PyPDF2 import PdfReader\n",
    "import torch\n",
    "from transformers import AutoConfig, AutoModelForQuestionAnswering, AutoTokenizer\n",
    "\n",
    "\n",
    "def run_prediction(questions, contract, model_path):\n",
    "    from transformers import (\n",
    "    AutoConfig,\n",
    "    AutoModelForQuestionAnswering,\n",
    "    AutoTokenizer,\n",
    "    squad_convert_examples_to_features\n",
    ")\n",
    "\n",
    "from transformers.data.processors.squad import SquadResult, SquadV2Processor, SquadExample\n",
    "from transformers.data.metrics.squad_metrics import compute_predictions_logits\n",
    "#from transformers import pipeline\n",
    "\n",
    "def run_prediction(question_texts, context_text, model_path):\n",
    "    ### Setting hyperparameters\n",
    "    max_seq_length = 512\n",
    "    doc_stride = 256\n",
    "    n_best_size = 1\n",
    "    max_query_length = 64\n",
    "    max_answer_length = 512\n",
    "    do_lower_case = False\n",
    "    null_score_diff_threshold = 0.0\n",
    "\n",
    "    # model_name_or_path = \"../cuad-models/roberta-base/\"\n",
    "\n",
    "    def to_list(tensor):\n",
    "        return tensor.detach().cpu().tolist()\n",
    "\n",
    "    config_class, model_class, tokenizer_class = (\n",
    "        AutoConfig, AutoModelForQuestionAnswering, AutoTokenizer)\n",
    "    config = config_class.from_pretrained(model_path)\n",
    "    tokenizer = tokenizer_class.from_pretrained(\n",
    "        model_path, do_lower_case=True, use_fast=False)\n",
    "    model = model_class.from_pretrained(model_path, config=config)\n",
    "\n",
    "    device = torch.device(\"cuda\" if torch.cuda.is_available() else \"cpu\")\n",
    "    model.to(device)\n",
    "\n",
    "    processor = SquadV2Processor()\n",
    "    examples = []\n",
    "\n",
    "    for i, question_text in enumerate(question_texts):\n",
    "        example = SquadExample(\n",
    "            qas_id=str(i),\n",
    "            question_text=question_text,\n",
    "            context_text=context_text,\n",
    "            answer_text=None,\n",
    "            start_position_character=None,\n",
    "            title=\"Predict\",\n",
    "            answers=None,\n",
    "        )\n",
    "\n",
    "        examples.append(example)\n",
    "\n",
    "    features, dataset = squad_convert_examples_to_features(\n",
    "        examples=examples,\n",
    "        tokenizer=tokenizer,\n",
    "        max_seq_length=max_seq_length,\n",
    "        doc_stride=doc_stride,\n",
    "        max_query_length=max_query_length,\n",
    "        is_training=False,\n",
    "        return_dataset=\"pt\",\n",
    "        threads=1,\n",
    "    )\n",
    "\n",
    "    eval_sampler = SequentialSampler(dataset)\n",
    "    eval_dataloader = DataLoader(dataset, sampler=eval_sampler, batch_size=10)\n",
    "\n",
    "    all_results = []\n",
    "\n",
    "    for batch in eval_dataloader:\n",
    "        model.eval()\n",
    "        batch = tuple(t.to(device) for t in batch)\n",
    "\n",
    "        with torch.no_grad():\n",
    "            inputs = {\n",
    "                \"input_ids\": batch[0],\n",
    "                \"attention_mask\": batch[1],\n",
    "                \"token_type_ids\": batch[2],\n",
    "            }\n",
    "\n",
    "            example_indices = batch[3]\n",
    "\n",
    "            outputs = model(**inputs)\n",
    "\n",
    "            for i, example_index in enumerate(example_indices):\n",
    "                eval_feature = features[example_index.item()]\n",
    "                unique_id = int(eval_feature.unique_id)\n",
    "\n",
    "                output = [to_list(output[i]) for output in outputs.to_tuple()]\n",
    "\n",
    "                start_logits, end_logits = output\n",
    "                result = SquadResult(unique_id, start_logits, end_logits)\n",
    "                all_results.append(result)\n",
    "\n",
    "    final_predictions = compute_predictions_logits(\n",
    "        all_examples=examples,\n",
    "        all_features=features,\n",
    "        all_results=all_results,\n",
    "        n_best_size=n_best_size,\n",
    "        max_answer_length=max_answer_length,\n",
    "        do_lower_case=do_lower_case,\n",
    "        output_prediction_file=None,\n",
    "        output_nbest_file=None,\n",
    "        output_null_log_odds_file=None,\n",
    "        verbose_logging=False,\n",
    "        version_2_with_negative=True,\n",
    "        null_score_diff_threshold=null_score_diff_threshold,\n",
    "        tokenizer=tokenizer\n",
    "    )\n",
    "\n",
    "    return final_predictions\n",
    "\n",
    "# Read questions from JSON file\n",
    "with open('D:\\\\DYPIU\\\\INTERNSHIP PROJECTS\\\\GIBOTS\\\\CUAD_v1.json') as json_file:\n",
    "    data = json.load(json_file)\n",
    "\n",
    "questions = []\n",
    "for qa in data['data'][0]['paragraphs'][0]['qas']:\n",
    "    question = qa['question']\n",
    "    questions.append(question)\n",
    "\n",
    "# Read contract from PDF file\n",
    "contract_path = 'MSA.pdf'\n",
    "with open(contract_path, 'rb') as f:\n",
    "    pdf_reader = PdfReader(f)\n",
    "    contract = \"\"\n",
    "    for page in pdf_reader.pages:\n",
    "        contract += page.extract_text()\n",
    "\n",
    "# Run predictions\n",
    "model_path = 'D:\\\\DYPIU\\\\INTERNSHIP PROJECTS\\\\GIBOTS\\\\Roberta base model'\n",
    "predictions = run_prediction(questions, contract, model_path)\n",
    "\n",
    "# Write predictions to output file\n",
    "output_path = 'MSA_output.txt'\n",
    "with open(output_path, 'w') as f:\n",
    "    for i, p in enumerate(predictions):\n",
    "        question = questions[i]\n",
    "        answer = predictions[p]\n",
    "        f.write(f\"Question {i+1}: {question}\\nAnswer: {answer}\\n\\n\")"
   ]
  },
  {
   "cell_type": "code",
   "execution_count": null,
   "id": "7b8d5f77",
   "metadata": {},
   "outputs": [],
   "source": []
  },
  {
   "cell_type": "code",
   "execution_count": null,
   "id": "1f77e8d0",
   "metadata": {},
   "outputs": [],
   "source": []
  }
 ],
 "metadata": {
  "kernelspec": {
   "display_name": "Python 3 (ipykernel)",
   "language": "python",
   "name": "python3"
  },
  "language_info": {
   "codemirror_mode": {
    "name": "ipython",
    "version": 3
   },
   "file_extension": ".py",
   "mimetype": "text/x-python",
   "name": "python",
   "nbconvert_exporter": "python",
   "pygments_lexer": "ipython3",
   "version": "3.9.13"
  }
 },
 "nbformat": 4,
 "nbformat_minor": 5
}
