{
 "cells": [
  {
   "cell_type": "markdown",
   "id": "7bf39f69",
   "metadata": {},
   "source": [
    "# Steps to build a Neural Network using Keras\n",
    "\n",
    "<ol>1. Loading the dataset</ol>\n",
    "<ol>2. Creating training and validation set</ol>\n",
    "<ol>3. Defining the architecture of the model</ol>\n",
    "<ol>4. Compiling the model (defining loss function, optimizer)</ol>\n",
    "<ol>5. Training the model</ol>\n",
    "<ol>6. Evaluating model performance on training and validation set</ol>"
   ]
  },
  {
   "cell_type": "markdown",
   "id": "c6c2b659",
   "metadata": {},
   "source": [
    "### 1. Loading the Dataset"
   ]
  },
  {
   "cell_type": "code",
   "execution_count": 1,
   "id": "6bed5148",
   "metadata": {},
   "outputs": [],
   "source": [
    "import pandas as pd\n",
    "import numpy as np\n",
    "import sklearn\n",
    "from sklearn.model_selection import train_test_split\n",
    "from sklearn.metrics import accuracy_score\n",
    "import matplotlib.pyplot as plt\n",
    "%matplotlib inline"
   ]
  },
  {
   "cell_type": "code",
   "execution_count": 2,
   "id": "426f8a76",
   "metadata": {},
   "outputs": [
    {
     "name": "stdout",
     "output_type": "stream",
     "text": [
      "Version of sklearn: 1.3.0\n"
     ]
    }
   ],
   "source": [
    "# check version on sklearn\n",
    "print('Version of sklearn:', sklearn.__version__)"
   ]
  },
  {
   "cell_type": "code",
   "execution_count": 3,
   "id": "7db94317",
   "metadata": {},
   "outputs": [],
   "source": [
    "data = pd.read_csv(\"Loan.csv\")"
   ]
  },
  {
   "cell_type": "code",
   "execution_count": 4,
   "id": "9286882a",
   "metadata": {},
   "outputs": [
    {
     "data": {
      "text/html": [
       "<div>\n",
       "<style scoped>\n",
       "    .dataframe tbody tr th:only-of-type {\n",
       "        vertical-align: middle;\n",
       "    }\n",
       "\n",
       "    .dataframe tbody tr th {\n",
       "        vertical-align: top;\n",
       "    }\n",
       "\n",
       "    .dataframe thead th {\n",
       "        text-align: right;\n",
       "    }\n",
       "</style>\n",
       "<table border=\"1\" class=\"dataframe\">\n",
       "  <thead>\n",
       "    <tr style=\"text-align: right;\">\n",
       "      <th></th>\n",
       "      <th>Loan_ID</th>\n",
       "      <th>Gender</th>\n",
       "      <th>Married</th>\n",
       "      <th>Dependents</th>\n",
       "      <th>Education</th>\n",
       "      <th>Self_Employed</th>\n",
       "      <th>ApplicantIncome</th>\n",
       "      <th>CoapplicantIncome</th>\n",
       "      <th>LoanAmount</th>\n",
       "      <th>Loan_Amount_Term</th>\n",
       "      <th>Credit_History</th>\n",
       "      <th>Property_Area</th>\n",
       "      <th>Loan_Status</th>\n",
       "    </tr>\n",
       "  </thead>\n",
       "  <tbody>\n",
       "    <tr>\n",
       "      <th>0</th>\n",
       "      <td>LP001002</td>\n",
       "      <td>0</td>\n",
       "      <td>0</td>\n",
       "      <td>0.000000</td>\n",
       "      <td>1</td>\n",
       "      <td>0</td>\n",
       "      <td>0.070489</td>\n",
       "      <td>0.000000</td>\n",
       "      <td>0.198860</td>\n",
       "      <td>0.74359</td>\n",
       "      <td>1</td>\n",
       "      <td>1.0</td>\n",
       "      <td>1</td>\n",
       "    </tr>\n",
       "    <tr>\n",
       "      <th>1</th>\n",
       "      <td>LP001003</td>\n",
       "      <td>0</td>\n",
       "      <td>1</td>\n",
       "      <td>0.333333</td>\n",
       "      <td>1</td>\n",
       "      <td>0</td>\n",
       "      <td>0.054830</td>\n",
       "      <td>0.036192</td>\n",
       "      <td>0.172214</td>\n",
       "      <td>0.74359</td>\n",
       "      <td>1</td>\n",
       "      <td>0.0</td>\n",
       "      <td>0</td>\n",
       "    </tr>\n",
       "    <tr>\n",
       "      <th>2</th>\n",
       "      <td>LP001005</td>\n",
       "      <td>0</td>\n",
       "      <td>1</td>\n",
       "      <td>0.000000</td>\n",
       "      <td>1</td>\n",
       "      <td>1</td>\n",
       "      <td>0.035250</td>\n",
       "      <td>0.000000</td>\n",
       "      <td>0.082489</td>\n",
       "      <td>0.74359</td>\n",
       "      <td>1</td>\n",
       "      <td>1.0</td>\n",
       "      <td>1</td>\n",
       "    </tr>\n",
       "    <tr>\n",
       "      <th>3</th>\n",
       "      <td>LP001006</td>\n",
       "      <td>0</td>\n",
       "      <td>1</td>\n",
       "      <td>0.000000</td>\n",
       "      <td>0</td>\n",
       "      <td>0</td>\n",
       "      <td>0.030093</td>\n",
       "      <td>0.056592</td>\n",
       "      <td>0.160637</td>\n",
       "      <td>0.74359</td>\n",
       "      <td>1</td>\n",
       "      <td>1.0</td>\n",
       "      <td>1</td>\n",
       "    </tr>\n",
       "    <tr>\n",
       "      <th>4</th>\n",
       "      <td>LP001008</td>\n",
       "      <td>0</td>\n",
       "      <td>0</td>\n",
       "      <td>0.000000</td>\n",
       "      <td>1</td>\n",
       "      <td>0</td>\n",
       "      <td>0.072356</td>\n",
       "      <td>0.000000</td>\n",
       "      <td>0.191027</td>\n",
       "      <td>0.74359</td>\n",
       "      <td>1</td>\n",
       "      <td>1.0</td>\n",
       "      <td>1</td>\n",
       "    </tr>\n",
       "  </tbody>\n",
       "</table>\n",
       "</div>"
      ],
      "text/plain": [
       "    Loan_ID  Gender  Married  Dependents  Education  Self_Employed  \\\n",
       "0  LP001002       0        0    0.000000          1              0   \n",
       "1  LP001003       0        1    0.333333          1              0   \n",
       "2  LP001005       0        1    0.000000          1              1   \n",
       "3  LP001006       0        1    0.000000          0              0   \n",
       "4  LP001008       0        0    0.000000          1              0   \n",
       "\n",
       "   ApplicantIncome  CoapplicantIncome  LoanAmount  Loan_Amount_Term  \\\n",
       "0         0.070489           0.000000    0.198860           0.74359   \n",
       "1         0.054830           0.036192    0.172214           0.74359   \n",
       "2         0.035250           0.000000    0.082489           0.74359   \n",
       "3         0.030093           0.056592    0.160637           0.74359   \n",
       "4         0.072356           0.000000    0.191027           0.74359   \n",
       "\n",
       "   Credit_History  Property_Area  Loan_Status  \n",
       "0               1            1.0            1  \n",
       "1               1            0.0            0  \n",
       "2               1            1.0            1  \n",
       "3               1            1.0            1  \n",
       "4               1            1.0            1  "
      ]
     },
     "execution_count": 4,
     "metadata": {},
     "output_type": "execute_result"
    }
   ],
   "source": [
    "data.head()"
   ]
  },
  {
   "cell_type": "code",
   "execution_count": 5,
   "id": "c9db16b6",
   "metadata": {},
   "outputs": [
    {
     "name": "stdout",
     "output_type": "stream",
     "text": [
      "<class 'pandas.core.frame.DataFrame'>\n",
      "RangeIndex: 614 entries, 0 to 613\n",
      "Data columns (total 13 columns):\n",
      " #   Column             Non-Null Count  Dtype  \n",
      "---  ------             --------------  -----  \n",
      " 0   Loan_ID            614 non-null    object \n",
      " 1   Gender             614 non-null    int64  \n",
      " 2   Married            614 non-null    int64  \n",
      " 3   Dependents         614 non-null    float64\n",
      " 4   Education          614 non-null    int64  \n",
      " 5   Self_Employed      614 non-null    int64  \n",
      " 6   ApplicantIncome    614 non-null    float64\n",
      " 7   CoapplicantIncome  614 non-null    float64\n",
      " 8   LoanAmount         614 non-null    float64\n",
      " 9   Loan_Amount_Term   614 non-null    float64\n",
      " 10  Credit_History     614 non-null    int64  \n",
      " 11  Property_Area      614 non-null    float64\n",
      " 12  Loan_Status        614 non-null    int64  \n",
      "dtypes: float64(6), int64(6), object(1)\n",
      "memory usage: 62.5+ KB\n"
     ]
    }
   ],
   "source": [
    "data.info()"
   ]
  },
  {
   "cell_type": "code",
   "execution_count": 6,
   "id": "775edde2",
   "metadata": {},
   "outputs": [
    {
     "data": {
      "text/plain": [
       "Loan_ID               object\n",
       "Gender                 int64\n",
       "Married                int64\n",
       "Dependents           float64\n",
       "Education              int64\n",
       "Self_Employed          int64\n",
       "ApplicantIncome      float64\n",
       "CoapplicantIncome    float64\n",
       "LoanAmount           float64\n",
       "Loan_Amount_Term     float64\n",
       "Credit_History         int64\n",
       "Property_Area        float64\n",
       "Loan_Status            int64\n",
       "dtype: object"
      ]
     },
     "execution_count": 6,
     "metadata": {},
     "output_type": "execute_result"
    }
   ],
   "source": [
    "data.dtypes"
   ]
  },
  {
   "cell_type": "code",
   "execution_count": 7,
   "id": "3d84eb23",
   "metadata": {},
   "outputs": [],
   "source": [
    "# Remove the Loan ID column\n",
    "data = data.drop(\"Loan_ID\", axis=1)"
   ]
  },
  {
   "cell_type": "code",
   "execution_count": 8,
   "id": "c7265642",
   "metadata": {},
   "outputs": [
    {
     "data": {
      "text/plain": [
       "(614, 12)"
      ]
     },
     "execution_count": 8,
     "metadata": {},
     "output_type": "execute_result"
    }
   ],
   "source": [
    "data.shape"
   ]
  },
  {
   "cell_type": "code",
   "execution_count": 9,
   "id": "76b56ccf",
   "metadata": {},
   "outputs": [],
   "source": [
    "# separating the independent and dependent variables\n",
    "\n",
    "# storing all the independent variables as X\n",
    "X = data.drop('Loan_Status', axis=1)\n",
    "\n",
    "# storing the dependent variable as y\n",
    "y = data['Loan_Status']"
   ]
  },
  {
   "cell_type": "code",
   "execution_count": 10,
   "id": "39e64289",
   "metadata": {},
   "outputs": [
    {
     "data": {
      "text/plain": [
       "((614, 11), (614,))"
      ]
     },
     "execution_count": 10,
     "metadata": {},
     "output_type": "execute_result"
    }
   ],
   "source": [
    "# shape of independent and dependent variables\n",
    "X.shape, y.shape"
   ]
  },
  {
   "cell_type": "markdown",
   "id": "7404cf12",
   "metadata": {},
   "source": [
    "### 2. Splitting the data into training and testing sets"
   ]
  },
  {
   "cell_type": "code",
   "execution_count": 11,
   "id": "697ac4d0",
   "metadata": {},
   "outputs": [],
   "source": [
    "# Creating training and validation set\n",
    "\n",
    "# stratify will make sure that the distribution of classes in train and validation set it similar\n",
    "# random state to regenerate the same train and validation set\n",
    "# test size 0.2 will keep 20% data in validation and remaining 80% in train set\n",
    "\n",
    "X_train, X_test, y_train, y_test = train_test_split(X, y, stratify = data[\"Loan_Status\"], random_state = 10, test_size = 0.2)"
   ]
  },
  {
   "cell_type": "code",
   "execution_count": 12,
   "id": "cfd162af",
   "metadata": {},
   "outputs": [
    {
     "data": {
      "text/plain": [
       "(((491, 11), (491,)), ((123, 11), (123,)))"
      ]
     },
     "execution_count": 12,
     "metadata": {},
     "output_type": "execute_result"
    }
   ],
   "source": [
    "(X_train.shape, y_train.shape), (X_test.shape, y_test.shape)"
   ]
  },
  {
   "cell_type": "markdown",
   "id": "a9e0e320",
   "metadata": {},
   "source": [
    "### 3. Defining the Architecture of the Model"
   ]
  },
  {
   "cell_type": "code",
   "execution_count": 13,
   "id": "9ab30786",
   "metadata": {},
   "outputs": [
    {
     "name": "stdout",
     "output_type": "stream",
     "text": [
      "2.14.0\n"
     ]
    }
   ],
   "source": [
    "import keras\n",
    "print(keras.__version__)"
   ]
  },
  {
   "cell_type": "code",
   "execution_count": 14,
   "id": "4f922b7e",
   "metadata": {},
   "outputs": [
    {
     "name": "stdout",
     "output_type": "stream",
     "text": [
      "2.14.0\n"
     ]
    }
   ],
   "source": [
    "import tensorflow as tf\n",
    "print(tf.__version__)"
   ]
  },
  {
   "cell_type": "markdown",
   "id": "c930839c",
   "metadata": {},
   "source": [
    "### a. Create a model\n",
    "\n",
    "<img src='https://drive.google.com/uc?id=1iZNZ3kwSHRNf-Irn3DZmMuBb6K-Lro7w'>"
   ]
  },
  {
   "cell_type": "code",
   "execution_count": 15,
   "id": "217bb31e",
   "metadata": {},
   "outputs": [],
   "source": [
    "from keras.models import Sequential"
   ]
  },
  {
   "cell_type": "markdown",
   "id": "0950099d",
   "metadata": {},
   "source": [
    "### b. Defining different layers\n",
    "\n",
    "<img src='https://drive.google.com/uc?id=16X6De2hua1XJBe3dfmUUeGTgP6PbXEpc'>"
   ]
  },
  {
   "cell_type": "code",
   "execution_count": 16,
   "id": "d3306395",
   "metadata": {},
   "outputs": [],
   "source": [
    "from keras.layers import InputLayer, Dense"
   ]
  },
  {
   "cell_type": "markdown",
   "id": "3d45f618",
   "metadata": {},
   "source": [
    "<img src='https://drive.google.com/uc?id=1tsy4B6G0UN4-J4L4roOdoWQiZMUdgw2a'>"
   ]
  },
  {
   "cell_type": "code",
   "execution_count": 17,
   "id": "e46e365b",
   "metadata": {},
   "outputs": [
    {
     "data": {
      "text/plain": [
       "(491, 11)"
      ]
     },
     "execution_count": 17,
     "metadata": {},
     "output_type": "execute_result"
    }
   ],
   "source": [
    "# Number of Input Neurons\n",
    "X_train.shape"
   ]
  },
  {
   "cell_type": "code",
   "execution_count": 18,
   "id": "564ca7eb",
   "metadata": {},
   "outputs": [
    {
     "data": {
      "text/plain": [
       "11"
      ]
     },
     "execution_count": 18,
     "metadata": {},
     "output_type": "execute_result"
    }
   ],
   "source": [
    "# Number of features in data\n",
    "X_train.shape[1] # No. of columns"
   ]
  },
  {
   "cell_type": "code",
   "execution_count": 19,
   "id": "fe52339c",
   "metadata": {},
   "outputs": [],
   "source": [
    "# Define input neurons\n",
    "input_neurons = X_train.shape[1]"
   ]
  },
  {
   "cell_type": "markdown",
   "id": "9d1535c9",
   "metadata": {},
   "source": [
    "<img src='https://drive.google.com/uc?id=1xL_hM9rGItZjsZ8Lofwzw_9fZUi4bgJo'>"
   ]
  },
  {
   "cell_type": "code",
   "execution_count": 20,
   "id": "0771d472",
   "metadata": {},
   "outputs": [],
   "source": [
    "# Define output neurons\n",
    "# Since loan prediction is a binary classification problem output neuron = 1\n",
    "output_neurons = 1"
   ]
  },
  {
   "cell_type": "code",
   "execution_count": 21,
   "id": "a1578d9b",
   "metadata": {},
   "outputs": [],
   "source": [
    "# define hidden layers and neuron in each layer\n",
    "# Since it is a hyperparameter we can pick the hidden layers and hidden neurons on our own\n",
    "number_of_hidden_layers = 2\n",
    "neuron_hidden_layer_1 = 10\n",
    "neuron_hidden_layer_2 = 5"
   ]
  },
  {
   "cell_type": "code",
   "execution_count": 22,
   "id": "ab60827c",
   "metadata": {},
   "outputs": [],
   "source": [
    "# Activation function of different layers\n",
    "\n",
    "# Here we have used Rectified Linear Unit (RELU) as the activation function for hidden layers.(ANy function can be used)\n",
    "# Since it is a binary classification problem, We have used the sigmoid activation function for the final layer."
   ]
  },
  {
   "cell_type": "code",
   "execution_count": 23,
   "id": "a6da059d",
   "metadata": {},
   "outputs": [],
   "source": [
    "# Defining the architecture of the model\n",
    "model = Sequential()\n",
    "model.add(InputLayer(input_shape=(input_neurons,)))\n",
    "model.add(Dense(units=neuron_hidden_layer_1, activation='relu'))\n",
    "model.add(Dense(units=neuron_hidden_layer_2, activation='relu'))\n",
    "model.add(Dense(units=output_neurons, activation='sigmoid'))"
   ]
  },
  {
   "cell_type": "code",
   "execution_count": 24,
   "id": "e3213d67",
   "metadata": {},
   "outputs": [
    {
     "name": "stdout",
     "output_type": "stream",
     "text": [
      "Model: \"sequential\"\n",
      "_________________________________________________________________\n",
      " Layer (type)                Output Shape              Param #   \n",
      "=================================================================\n",
      " dense (Dense)               (None, 10)                120       \n",
      "                                                                 \n",
      " dense_1 (Dense)             (None, 5)                 55        \n",
      "                                                                 \n",
      " dense_2 (Dense)             (None, 1)                 6         \n",
      "                                                                 \n",
      "=================================================================\n",
      "Total params: 181 (724.00 Byte)\n",
      "Trainable params: 181 (724.00 Byte)\n",
      "Non-trainable params: 0 (0.00 Byte)\n",
      "_________________________________________________________________\n"
     ]
    }
   ],
   "source": [
    "model.summary()"
   ]
  },
  {
   "cell_type": "code",
   "execution_count": 25,
   "id": "7e73440e",
   "metadata": {},
   "outputs": [
    {
     "data": {
      "text/plain": [
       "110"
      ]
     },
     "execution_count": 25,
     "metadata": {},
     "output_type": "execute_result"
    }
   ],
   "source": [
    "# Number of parameters between input and first hiddden layer\n",
    "input_neurons * neuron_hidden_layer_1"
   ]
  },
  {
   "cell_type": "code",
   "execution_count": 26,
   "id": "14bcacba",
   "metadata": {},
   "outputs": [
    {
     "data": {
      "text/plain": [
       "120"
      ]
     },
     "execution_count": 26,
     "metadata": {},
     "output_type": "execute_result"
    }
   ],
   "source": [
    "# Number of parameters between input and first hidden layer\n",
    "# Adding the bias for each neuron of first hidden layer\n",
    "input_neurons*neuron_hidden_layer_1 + 10"
   ]
  },
  {
   "cell_type": "code",
   "execution_count": 27,
   "id": "74243040",
   "metadata": {},
   "outputs": [
    {
     "data": {
      "text/plain": [
       "55"
      ]
     },
     "execution_count": 27,
     "metadata": {},
     "output_type": "execute_result"
    }
   ],
   "source": [
    "# Number of parameters between first and second hidden layer\n",
    "neuron_hidden_layer_1*neuron_hidden_layer_2 + 5"
   ]
  },
  {
   "cell_type": "code",
   "execution_count": 28,
   "id": "79918f05",
   "metadata": {},
   "outputs": [
    {
     "data": {
      "text/plain": [
       "6"
      ]
     },
     "execution_count": 28,
     "metadata": {},
     "output_type": "execute_result"
    }
   ],
   "source": [
    "# Number of parameters between second hidden and output layer\n",
    "neuron_hidden_layer_2*output_neurons + 1"
   ]
  },
  {
   "cell_type": "markdown",
   "id": "a8773f6e",
   "metadata": {},
   "source": [
    "### 4. Compiling the Model(Defining the loss function, Optimizer)"
   ]
  },
  {
   "cell_type": "code",
   "execution_count": 29,
   "id": "c6a96115",
   "metadata": {},
   "outputs": [],
   "source": [
    "# compiling the model\n",
    "\n",
    "# loss as binary_crossentropy, since we have binary classification problem\n",
    "# defining the optimizer as adam\n",
    "# Evaluation metric as accuracy\n",
    "\n",
    "model.compile(loss = \"binary_crossentropy\", optimizer = \"Adam\", metrics = [\"Accuracy\"])"
   ]
  },
  {
   "cell_type": "markdown",
   "id": "45f114b3",
   "metadata": {},
   "source": [
    "### 5. Training the Model"
   ]
  },
  {
   "cell_type": "code",
   "execution_count": 30,
   "id": "fa4d882d",
   "metadata": {},
   "outputs": [
    {
     "name": "stdout",
     "output_type": "stream",
     "text": [
      "Epoch 1/100\n",
      "16/16 [==============================] - 2s 31ms/step - loss: 0.6917 - Accuracy: 0.6008 - val_loss: 0.6719 - val_Accuracy: 0.6992\n",
      "Epoch 2/100\n",
      "16/16 [==============================] - 0s 8ms/step - loss: 0.6691 - Accuracy: 0.6802 - val_loss: 0.6528 - val_Accuracy: 0.6911\n",
      "Epoch 3/100\n",
      "16/16 [==============================] - 0s 8ms/step - loss: 0.6492 - Accuracy: 0.6864 - val_loss: 0.6360 - val_Accuracy: 0.6911\n",
      "Epoch 4/100\n",
      "16/16 [==============================] - 0s 7ms/step - loss: 0.6325 - Accuracy: 0.6864 - val_loss: 0.6175 - val_Accuracy: 0.6911\n",
      "Epoch 5/100\n",
      "16/16 [==============================] - 0s 6ms/step - loss: 0.6153 - Accuracy: 0.6864 - val_loss: 0.6020 - val_Accuracy: 0.6911\n",
      "Epoch 6/100\n",
      "16/16 [==============================] - 0s 7ms/step - loss: 0.6021 - Accuracy: 0.6864 - val_loss: 0.5924 - val_Accuracy: 0.6911\n",
      "Epoch 7/100\n",
      "16/16 [==============================] - 0s 8ms/step - loss: 0.5960 - Accuracy: 0.6864 - val_loss: 0.5855 - val_Accuracy: 0.6911\n",
      "Epoch 8/100\n",
      "16/16 [==============================] - 0s 7ms/step - loss: 0.5911 - Accuracy: 0.6864 - val_loss: 0.5824 - val_Accuracy: 0.6911\n",
      "Epoch 9/100\n",
      "16/16 [==============================] - 0s 9ms/step - loss: 0.5877 - Accuracy: 0.6864 - val_loss: 0.5798 - val_Accuracy: 0.6911\n",
      "Epoch 10/100\n",
      "16/16 [==============================] - 0s 8ms/step - loss: 0.5863 - Accuracy: 0.6864 - val_loss: 0.5770 - val_Accuracy: 0.6911\n",
      "Epoch 11/100\n",
      "16/16 [==============================] - 0s 6ms/step - loss: 0.5824 - Accuracy: 0.6864 - val_loss: 0.5754 - val_Accuracy: 0.6911\n",
      "Epoch 12/100\n",
      "16/16 [==============================] - 0s 6ms/step - loss: 0.5803 - Accuracy: 0.6864 - val_loss: 0.5726 - val_Accuracy: 0.6911\n",
      "Epoch 13/100\n",
      "16/16 [==============================] - 0s 7ms/step - loss: 0.5778 - Accuracy: 0.6864 - val_loss: 0.5693 - val_Accuracy: 0.6911\n",
      "Epoch 14/100\n",
      "16/16 [==============================] - 0s 7ms/step - loss: 0.5748 - Accuracy: 0.6864 - val_loss: 0.5666 - val_Accuracy: 0.6911\n",
      "Epoch 15/100\n",
      "16/16 [==============================] - 0s 7ms/step - loss: 0.5721 - Accuracy: 0.6864 - val_loss: 0.5638 - val_Accuracy: 0.6911\n",
      "Epoch 16/100\n",
      "16/16 [==============================] - 0s 6ms/step - loss: 0.5690 - Accuracy: 0.6864 - val_loss: 0.5610 - val_Accuracy: 0.6911\n",
      "Epoch 17/100\n",
      "16/16 [==============================] - 0s 6ms/step - loss: 0.5659 - Accuracy: 0.6864 - val_loss: 0.5586 - val_Accuracy: 0.6911\n",
      "Epoch 18/100\n",
      "16/16 [==============================] - 0s 7ms/step - loss: 0.5635 - Accuracy: 0.6864 - val_loss: 0.5560 - val_Accuracy: 0.6911\n",
      "Epoch 19/100\n",
      "16/16 [==============================] - 0s 7ms/step - loss: 0.5605 - Accuracy: 0.6864 - val_loss: 0.5539 - val_Accuracy: 0.6911\n",
      "Epoch 20/100\n",
      "16/16 [==============================] - 0s 7ms/step - loss: 0.5582 - Accuracy: 0.6864 - val_loss: 0.5517 - val_Accuracy: 0.6992\n",
      "Epoch 21/100\n",
      "16/16 [==============================] - 0s 7ms/step - loss: 0.5556 - Accuracy: 0.6864 - val_loss: 0.5491 - val_Accuracy: 0.6992\n",
      "Epoch 22/100\n",
      "16/16 [==============================] - 0s 7ms/step - loss: 0.5526 - Accuracy: 0.6884 - val_loss: 0.5464 - val_Accuracy: 0.6992\n",
      "Epoch 23/100\n",
      "16/16 [==============================] - 0s 9ms/step - loss: 0.5501 - Accuracy: 0.6965 - val_loss: 0.5444 - val_Accuracy: 0.6992\n",
      "Epoch 24/100\n",
      "16/16 [==============================] - 0s 7ms/step - loss: 0.5475 - Accuracy: 0.7006 - val_loss: 0.5421 - val_Accuracy: 0.7073\n",
      "Epoch 25/100\n",
      "16/16 [==============================] - 0s 7ms/step - loss: 0.5452 - Accuracy: 0.7108 - val_loss: 0.5400 - val_Accuracy: 0.7073\n",
      "Epoch 26/100\n",
      "16/16 [==============================] - 0s 7ms/step - loss: 0.5428 - Accuracy: 0.7251 - val_loss: 0.5377 - val_Accuracy: 0.7236\n",
      "Epoch 27/100\n",
      "16/16 [==============================] - 0s 6ms/step - loss: 0.5397 - Accuracy: 0.7393 - val_loss: 0.5357 - val_Accuracy: 0.7236\n",
      "Epoch 28/100\n",
      "16/16 [==============================] - 0s 7ms/step - loss: 0.5376 - Accuracy: 0.7495 - val_loss: 0.5332 - val_Accuracy: 0.7805\n",
      "Epoch 29/100\n",
      "16/16 [==============================] - 0s 14ms/step - loss: 0.5348 - Accuracy: 0.7658 - val_loss: 0.5305 - val_Accuracy: 0.8049\n",
      "Epoch 30/100\n",
      "16/16 [==============================] - 0s 8ms/step - loss: 0.5325 - Accuracy: 0.7780 - val_loss: 0.5283 - val_Accuracy: 0.8130\n",
      "Epoch 31/100\n",
      "16/16 [==============================] - 0s 11ms/step - loss: 0.5297 - Accuracy: 0.7841 - val_loss: 0.5260 - val_Accuracy: 0.8130\n",
      "Epoch 32/100\n",
      "16/16 [==============================] - 0s 6ms/step - loss: 0.5271 - Accuracy: 0.7984 - val_loss: 0.5236 - val_Accuracy: 0.8130\n",
      "Epoch 33/100\n",
      "16/16 [==============================] - 0s 5ms/step - loss: 0.5244 - Accuracy: 0.8065 - val_loss: 0.5209 - val_Accuracy: 0.8130\n",
      "Epoch 34/100\n",
      "16/16 [==============================] - 0s 6ms/step - loss: 0.5216 - Accuracy: 0.8065 - val_loss: 0.5194 - val_Accuracy: 0.8130\n",
      "Epoch 35/100\n",
      "16/16 [==============================] - 0s 6ms/step - loss: 0.5185 - Accuracy: 0.8065 - val_loss: 0.5172 - val_Accuracy: 0.8130\n",
      "Epoch 36/100\n",
      "16/16 [==============================] - 0s 6ms/step - loss: 0.5172 - Accuracy: 0.8086 - val_loss: 0.5162 - val_Accuracy: 0.8130\n",
      "Epoch 37/100\n",
      "16/16 [==============================] - 0s 6ms/step - loss: 0.5137 - Accuracy: 0.8086 - val_loss: 0.5134 - val_Accuracy: 0.8130\n",
      "Epoch 38/100\n",
      "16/16 [==============================] - 0s 6ms/step - loss: 0.5110 - Accuracy: 0.8086 - val_loss: 0.5111 - val_Accuracy: 0.8130\n",
      "Epoch 39/100\n",
      "16/16 [==============================] - 0s 6ms/step - loss: 0.5087 - Accuracy: 0.8086 - val_loss: 0.5095 - val_Accuracy: 0.8130\n",
      "Epoch 40/100\n",
      "16/16 [==============================] - 0s 7ms/step - loss: 0.5068 - Accuracy: 0.8086 - val_loss: 0.5076 - val_Accuracy: 0.8130\n",
      "Epoch 41/100\n",
      "16/16 [==============================] - 0s 4ms/step - loss: 0.5049 - Accuracy: 0.8086 - val_loss: 0.5062 - val_Accuracy: 0.8130\n",
      "Epoch 42/100\n",
      "16/16 [==============================] - 0s 4ms/step - loss: 0.5041 - Accuracy: 0.8086 - val_loss: 0.5046 - val_Accuracy: 0.8130\n",
      "Epoch 43/100\n",
      "16/16 [==============================] - 0s 3ms/step - loss: 0.5000 - Accuracy: 0.8086 - val_loss: 0.5036 - val_Accuracy: 0.8130\n",
      "Epoch 44/100\n",
      "16/16 [==============================] - 0s 2ms/step - loss: 0.4975 - Accuracy: 0.8086 - val_loss: 0.5019 - val_Accuracy: 0.8130\n",
      "Epoch 45/100\n",
      "16/16 [==============================] - 0s 3ms/step - loss: 0.4958 - Accuracy: 0.8106 - val_loss: 0.5006 - val_Accuracy: 0.8130\n",
      "Epoch 46/100\n",
      "16/16 [==============================] - 0s 3ms/step - loss: 0.4944 - Accuracy: 0.8106 - val_loss: 0.4992 - val_Accuracy: 0.8130\n",
      "Epoch 47/100\n",
      "16/16 [==============================] - 0s 2ms/step - loss: 0.4930 - Accuracy: 0.8106 - val_loss: 0.4979 - val_Accuracy: 0.8130\n",
      "Epoch 48/100\n",
      "16/16 [==============================] - 0s 3ms/step - loss: 0.4926 - Accuracy: 0.8106 - val_loss: 0.4969 - val_Accuracy: 0.8130\n",
      "Epoch 49/100\n",
      "16/16 [==============================] - 0s 3ms/step - loss: 0.4890 - Accuracy: 0.8106 - val_loss: 0.4957 - val_Accuracy: 0.8130\n",
      "Epoch 50/100\n",
      "16/16 [==============================] - 0s 3ms/step - loss: 0.4872 - Accuracy: 0.8106 - val_loss: 0.4951 - val_Accuracy: 0.8130\n",
      "Epoch 51/100\n",
      "16/16 [==============================] - 0s 2ms/step - loss: 0.4875 - Accuracy: 0.8106 - val_loss: 0.4938 - val_Accuracy: 0.8130\n",
      "Epoch 52/100\n",
      "16/16 [==============================] - 0s 5ms/step - loss: 0.4851 - Accuracy: 0.8106 - val_loss: 0.4925 - val_Accuracy: 0.8130\n",
      "Epoch 53/100\n",
      "16/16 [==============================] - 0s 6ms/step - loss: 0.4831 - Accuracy: 0.8106 - val_loss: 0.4922 - val_Accuracy: 0.8130\n",
      "Epoch 54/100\n",
      "16/16 [==============================] - 0s 6ms/step - loss: 0.4822 - Accuracy: 0.8106 - val_loss: 0.4921 - val_Accuracy: 0.8130\n",
      "Epoch 55/100\n",
      "16/16 [==============================] - 0s 6ms/step - loss: 0.4818 - Accuracy: 0.8106 - val_loss: 0.4910 - val_Accuracy: 0.8130\n",
      "Epoch 56/100\n",
      "16/16 [==============================] - 0s 8ms/step - loss: 0.4801 - Accuracy: 0.8106 - val_loss: 0.4902 - val_Accuracy: 0.8130\n",
      "Epoch 57/100\n",
      "16/16 [==============================] - 0s 5ms/step - loss: 0.4789 - Accuracy: 0.8106 - val_loss: 0.4898 - val_Accuracy: 0.8130\n",
      "Epoch 58/100\n",
      "16/16 [==============================] - 0s 6ms/step - loss: 0.4789 - Accuracy: 0.8106 - val_loss: 0.4891 - val_Accuracy: 0.8130\n"
     ]
    },
    {
     "name": "stdout",
     "output_type": "stream",
     "text": [
      "Epoch 59/100\n",
      "16/16 [==============================] - 0s 5ms/step - loss: 0.4769 - Accuracy: 0.8106 - val_loss: 0.4885 - val_Accuracy: 0.8130\n",
      "Epoch 60/100\n",
      "16/16 [==============================] - 0s 5ms/step - loss: 0.4779 - Accuracy: 0.8106 - val_loss: 0.4886 - val_Accuracy: 0.8130\n",
      "Epoch 61/100\n",
      "16/16 [==============================] - 0s 5ms/step - loss: 0.4775 - Accuracy: 0.8126 - val_loss: 0.4886 - val_Accuracy: 0.8130\n",
      "Epoch 62/100\n",
      "16/16 [==============================] - 0s 6ms/step - loss: 0.4733 - Accuracy: 0.8106 - val_loss: 0.4866 - val_Accuracy: 0.8130\n",
      "Epoch 63/100\n",
      "16/16 [==============================] - 0s 6ms/step - loss: 0.4747 - Accuracy: 0.8106 - val_loss: 0.4863 - val_Accuracy: 0.8130\n",
      "Epoch 64/100\n",
      "16/16 [==============================] - 0s 6ms/step - loss: 0.4728 - Accuracy: 0.8106 - val_loss: 0.4862 - val_Accuracy: 0.8130\n",
      "Epoch 65/100\n",
      "16/16 [==============================] - 0s 5ms/step - loss: 0.4718 - Accuracy: 0.8126 - val_loss: 0.4863 - val_Accuracy: 0.8130\n",
      "Epoch 66/100\n",
      "16/16 [==============================] - 0s 6ms/step - loss: 0.4711 - Accuracy: 0.8126 - val_loss: 0.4856 - val_Accuracy: 0.8130\n",
      "Epoch 67/100\n",
      "16/16 [==============================] - 0s 5ms/step - loss: 0.4704 - Accuracy: 0.8126 - val_loss: 0.4856 - val_Accuracy: 0.8130\n",
      "Epoch 68/100\n",
      "16/16 [==============================] - 0s 6ms/step - loss: 0.4697 - Accuracy: 0.8126 - val_loss: 0.4854 - val_Accuracy: 0.8130\n",
      "Epoch 69/100\n",
      "16/16 [==============================] - 0s 6ms/step - loss: 0.4699 - Accuracy: 0.8126 - val_loss: 0.4853 - val_Accuracy: 0.8130\n",
      "Epoch 70/100\n",
      "16/16 [==============================] - 0s 6ms/step - loss: 0.4698 - Accuracy: 0.8126 - val_loss: 0.4854 - val_Accuracy: 0.8130\n",
      "Epoch 71/100\n",
      "16/16 [==============================] - 0s 6ms/step - loss: 0.4682 - Accuracy: 0.8126 - val_loss: 0.4853 - val_Accuracy: 0.8130\n",
      "Epoch 72/100\n",
      "16/16 [==============================] - 0s 7ms/step - loss: 0.4675 - Accuracy: 0.8126 - val_loss: 0.4855 - val_Accuracy: 0.8130\n",
      "Epoch 73/100\n",
      "16/16 [==============================] - 0s 7ms/step - loss: 0.4681 - Accuracy: 0.8126 - val_loss: 0.4852 - val_Accuracy: 0.8130\n",
      "Epoch 74/100\n",
      "16/16 [==============================] - 0s 6ms/step - loss: 0.4665 - Accuracy: 0.8126 - val_loss: 0.4850 - val_Accuracy: 0.8130\n",
      "Epoch 75/100\n",
      "16/16 [==============================] - 0s 6ms/step - loss: 0.4660 - Accuracy: 0.8126 - val_loss: 0.4851 - val_Accuracy: 0.8130\n",
      "Epoch 76/100\n",
      "16/16 [==============================] - 0s 5ms/step - loss: 0.4655 - Accuracy: 0.8126 - val_loss: 0.4849 - val_Accuracy: 0.8130\n",
      "Epoch 77/100\n",
      "16/16 [==============================] - 0s 7ms/step - loss: 0.4665 - Accuracy: 0.8126 - val_loss: 0.4861 - val_Accuracy: 0.8130\n",
      "Epoch 78/100\n",
      "16/16 [==============================] - 0s 6ms/step - loss: 0.4657 - Accuracy: 0.8126 - val_loss: 0.4855 - val_Accuracy: 0.8130\n",
      "Epoch 79/100\n",
      "16/16 [==============================] - 0s 6ms/step - loss: 0.4685 - Accuracy: 0.8126 - val_loss: 0.4851 - val_Accuracy: 0.8130\n",
      "Epoch 80/100\n",
      "16/16 [==============================] - 0s 6ms/step - loss: 0.4675 - Accuracy: 0.8126 - val_loss: 0.4876 - val_Accuracy: 0.8049\n",
      "Epoch 81/100\n",
      "16/16 [==============================] - 0s 7ms/step - loss: 0.4669 - Accuracy: 0.8126 - val_loss: 0.4849 - val_Accuracy: 0.8130\n",
      "Epoch 82/100\n",
      "16/16 [==============================] - 0s 6ms/step - loss: 0.4656 - Accuracy: 0.8126 - val_loss: 0.4856 - val_Accuracy: 0.8130\n",
      "Epoch 83/100\n",
      "16/16 [==============================] - 0s 7ms/step - loss: 0.4627 - Accuracy: 0.8126 - val_loss: 0.4856 - val_Accuracy: 0.8130\n",
      "Epoch 84/100\n",
      "16/16 [==============================] - 0s 6ms/step - loss: 0.4640 - Accuracy: 0.8126 - val_loss: 0.4848 - val_Accuracy: 0.8130\n",
      "Epoch 85/100\n",
      "16/16 [==============================] - 0s 7ms/step - loss: 0.4626 - Accuracy: 0.8126 - val_loss: 0.4847 - val_Accuracy: 0.8130\n",
      "Epoch 86/100\n",
      "16/16 [==============================] - 0s 6ms/step - loss: 0.4637 - Accuracy: 0.8126 - val_loss: 0.4862 - val_Accuracy: 0.7967\n",
      "Epoch 87/100\n",
      "16/16 [==============================] - 0s 7ms/step - loss: 0.4631 - Accuracy: 0.8126 - val_loss: 0.4849 - val_Accuracy: 0.8130\n",
      "Epoch 88/100\n",
      "16/16 [==============================] - 0s 5ms/step - loss: 0.4618 - Accuracy: 0.8126 - val_loss: 0.4857 - val_Accuracy: 0.7967\n",
      "Epoch 89/100\n",
      "16/16 [==============================] - 0s 7ms/step - loss: 0.4615 - Accuracy: 0.8126 - val_loss: 0.4860 - val_Accuracy: 0.7967\n",
      "Epoch 90/100\n",
      "16/16 [==============================] - 0s 6ms/step - loss: 0.4611 - Accuracy: 0.8126 - val_loss: 0.4856 - val_Accuracy: 0.7967\n",
      "Epoch 91/100\n",
      "16/16 [==============================] - 0s 7ms/step - loss: 0.4611 - Accuracy: 0.8126 - val_loss: 0.4859 - val_Accuracy: 0.7967\n",
      "Epoch 92/100\n",
      "16/16 [==============================] - 0s 6ms/step - loss: 0.4609 - Accuracy: 0.8126 - val_loss: 0.4860 - val_Accuracy: 0.7967\n",
      "Epoch 93/100\n",
      "16/16 [==============================] - 0s 7ms/step - loss: 0.4607 - Accuracy: 0.8126 - val_loss: 0.4860 - val_Accuracy: 0.7967\n",
      "Epoch 94/100\n",
      "16/16 [==============================] - 0s 6ms/step - loss: 0.4602 - Accuracy: 0.8126 - val_loss: 0.4868 - val_Accuracy: 0.7967\n",
      "Epoch 95/100\n",
      "16/16 [==============================] - 0s 6ms/step - loss: 0.4603 - Accuracy: 0.8126 - val_loss: 0.4867 - val_Accuracy: 0.7967\n",
      "Epoch 96/100\n",
      "16/16 [==============================] - 0s 7ms/step - loss: 0.4606 - Accuracy: 0.8126 - val_loss: 0.4873 - val_Accuracy: 0.7967\n",
      "Epoch 97/100\n",
      "16/16 [==============================] - 0s 7ms/step - loss: 0.4593 - Accuracy: 0.8126 - val_loss: 0.4867 - val_Accuracy: 0.7967\n",
      "Epoch 98/100\n",
      "16/16 [==============================] - 0s 7ms/step - loss: 0.4598 - Accuracy: 0.8126 - val_loss: 0.4870 - val_Accuracy: 0.7967\n",
      "Epoch 99/100\n",
      "16/16 [==============================] - 0s 7ms/step - loss: 0.4595 - Accuracy: 0.8126 - val_loss: 0.4873 - val_Accuracy: 0.7967\n",
      "Epoch 100/100\n",
      "16/16 [==============================] - 0s 6ms/step - loss: 0.4591 - Accuracy: 0.8126 - val_loss: 0.4873 - val_Accuracy: 0.7967\n"
     ]
    }
   ],
   "source": [
    "# Training the model\n",
    "\n",
    "# Passing the independent and dependent features for training set for training the model\n",
    "# Validation data will be evaluated at the end of each epoch\n",
    "# Setting the epochs as 50\n",
    "# Storing the trained model in model_history variable which will be used to visualize the training process\n",
    "\n",
    "model_history = model.fit(X_train, y_train, validation_data = (X_test, y_test), epochs = 100)"
   ]
  },
  {
   "cell_type": "markdown",
   "id": "9a1f9846",
   "metadata": {},
   "source": [
    "### 6. Evaluating the Model Performance"
   ]
  },
  {
   "cell_type": "code",
   "execution_count": 44,
   "id": "8d405be7",
   "metadata": {},
   "outputs": [
    {
     "name": "stdout",
     "output_type": "stream",
     "text": [
      "4/4 [==============================] - 0s 8ms/step\n"
     ]
    }
   ],
   "source": [
    "# Getting predictions for the validation set\n",
    "prediction = model.predict(X_test).round()"
   ]
  },
  {
   "cell_type": "code",
   "execution_count": 47,
   "id": "cb8149db",
   "metadata": {},
   "outputs": [
    {
     "data": {
      "text/plain": [
       "0.7967479674796748"
      ]
     },
     "execution_count": 47,
     "metadata": {},
     "output_type": "execute_result"
    }
   ],
   "source": [
    "# calculating the accuracy on validation set\n",
    "accuracy_score(prediction, y_test)"
   ]
  },
  {
   "cell_type": "markdown",
   "id": "9f8d7119",
   "metadata": {},
   "source": [
    "### 7. Visualizing the Model Performance"
   ]
  },
  {
   "cell_type": "code",
   "execution_count": 48,
   "id": "6b8814b9",
   "metadata": {},
   "outputs": [
    {
     "data": {
      "image/png": "[encoded data removed]",
      "text/plain": [
       "<Figure size 640x480 with 1 Axes>"
      ]
     },
     "metadata": {},
     "output_type": "display_data"
    }
   ],
   "source": [
    "plt.plot(model_history.history['loss'])\n",
    "plt.plot(model_history.history['val_loss'])\n",
    "plt.title('MODEL LOSS')\n",
    "plt.ylabel('Loss')\n",
    "plt.xlabel('Epochs')\n",
    "plt.legend(['Training Data', 'Test Data'], loc='upper left')\n",
    "plt.show()"
   ]
  },
  {
   "cell_type": "code",
   "execution_count": 49,
   "id": "b577a5b6",
   "metadata": {},
   "outputs": [
    {
     "data": {
      "image/png": "[encoded data removed]",
      "text/plain": [
       "<Figure size 640x480 with 1 Axes>"
      ]
     },
     "metadata": {},
     "output_type": "display_data"
    }
   ],
   "source": [
    "plt.plot(model_history.history['Accuracy'])\n",
    "plt.plot(model_history.history['val_Accuracy'])\n",
    "plt.title('MODEL ACCURACY')\n",
    "plt.ylabel('Accuracy')\n",
    "plt.xlabel('Epochs')\n",
    "plt.legend(['Training Data', 'Test Data'], loc='upper left')\n",
    "plt.show()"
   ]
  }
 ],
 "metadata": {
  "kernelspec": {
   "display_name": "Python 3 (ipykernel)",
   "language": "python",
   "name": "python3"
  },
  "language_info": {
   "codemirror_mode": {
    "name": "ipython",
    "version": 3
   },
   "file_extension": ".py",
   "mimetype": "text/x-python",
   "name": "python",
   "nbconvert_exporter": "python",
   "pygments_lexer": "ipython3",
   "version": "3.11.4"
  }
 },
 "nbformat": 4,
 "nbformat_minor": 5
}
